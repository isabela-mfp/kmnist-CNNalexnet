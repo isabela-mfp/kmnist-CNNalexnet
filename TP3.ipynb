{
 "cells": [
  {
   "cell_type": "markdown",
   "metadata": {},
   "source": [
    "## Trabalho Prático 03 - Aprendizado de Máquina\n",
    "\n",
    "- Aluna: Isabela Marina Ferreira Pires <br>\n",
    "- Matrícula: 2017014634"
   ]
  },
  {
   "cell_type": "code",
   "execution_count": 2,
   "metadata": {},
   "outputs": [],
   "source": [
    "#importando bibliotecas e funções necessárias\n",
    "import os\n",
    "os.environ['CUDA_LAUNCH_BLOCKING'] = \"1\"\n",
    "import torch\n",
    "torch.cuda.current_device()\n",
    "import torchvision\n",
    "import numpy as np \n",
    "import pandas as pd\n",
    "import torch.nn as nn\n",
    "from PIL import Image\n",
    "import torch.optim as optim\n",
    "from tqdm import tqdm_notebook\n",
    "import matplotlib.pyplot as plt\n",
    "import torch.nn.functional as F\n",
    "import torchvision.transforms as transforms\n",
    "from sklearn.model_selection import train_test_split\n",
    "from torch.utils.data import DataLoader, TensorDataset, Dataset"
   ]
  },
  {
   "cell_type": "code",
   "execution_count": 3,
   "metadata": {},
   "outputs": [
    {
     "name": "stdout",
     "output_type": "stream",
     "text": [
      "1.2.0\n",
      "cuda\n"
     ]
    }
   ],
   "source": [
    "#Setando variáveis globais\n",
    "EPOCHS = 1\n",
    "BATCH_SIZE = 4\n",
    "\n",
    "DEVICE = (\"cuda\" if torch.cuda.is_available() else \"cpu\")\n",
    "print(torch.__version__)\n",
    "print(DEVICE)"
   ]
  },
  {
   "cell_type": "markdown",
   "metadata": {},
   "source": [
    "## Dataset: Kuzushiji-MNIST\n",
    "\n",
    "Kuzushiji foi um estilo de escrita cursiva usado por mais de mil anos no Japão desde o Século VIII, quando os caracteres chineses entraram no país. Deste período, foram preservados mais de três mil livros sobre variados assuntos, mas graças à modernização da Língua Japonesa em 1868 devido à restauração Meiji,  as escolas passaram a não incluir escrita Kuzushiji na grade oficial. Logo, apesar de ter sido usado por mais de mil anos, muitos japoneses nativos não conseguem ler livros escritos ou publicados há mais de 150 anos. Como resultado, milhares de textos em Kuzushiji foram digitalizados, mas nunca transcritos já que poucos especialistas podem lê-los.<br>\n",
    "O objetivo é utilizar o dataset para juntar Aprendizado de Máquina e Literatura Japonesa em prol de resgatar o conhecimento daquele período.\n",
    "\n",
    "Para este experimento foram usados apenas os dados do Hentaigana (tradução literal para “Variações de Caractere”), a escrita cursiva referente ao silabário Japonês Hiragana.\n",
    "\n",
    "\"KMNIST Dataset\" (created by CODH), adapted from \"Kuzushiji Dataset\" (created by NIJL and others), doi:10.20676/00000341"
   ]
  },
  {
   "cell_type": "markdown",
   "metadata": {},
   "source": [
    "### Leitura das entradas\n",
    "\n",
    "A primeira entrada é um arquivo csv com o mapeamento das classes do dataset, que consistem em todos os kanas disponíveis no silabário Hiragana da língua Japonesa, excluindo os kanas modificados por sinais diacríticos (Dakuten e Handakuten)."
   ]
  },
  {
   "cell_type": "code",
   "execution_count": 4,
   "metadata": {},
   "outputs": [
    {
     "name": "stdout",
     "output_type": "stream",
     "text": [
      "(49, 3)\n"
     ]
    },
    {
     "data": {
      "text/html": [
       "<div>\n",
       "<style scoped>\n",
       "    .dataframe tbody tr th:only-of-type {\n",
       "        vertical-align: middle;\n",
       "    }\n",
       "\n",
       "    .dataframe tbody tr th {\n",
       "        vertical-align: top;\n",
       "    }\n",
       "\n",
       "    .dataframe thead th {\n",
       "        text-align: right;\n",
       "    }\n",
       "</style>\n",
       "<table border=\"1\" class=\"dataframe\">\n",
       "  <thead>\n",
       "    <tr style=\"text-align: right;\">\n",
       "      <th></th>\n",
       "      <th>index</th>\n",
       "      <th>codepoint</th>\n",
       "      <th>char</th>\n",
       "    </tr>\n",
       "  </thead>\n",
       "  <tbody>\n",
       "    <tr>\n",
       "      <th>44</th>\n",
       "      <td>44</td>\n",
       "      <td>U+3090</td>\n",
       "      <td>ゐ</td>\n",
       "    </tr>\n",
       "    <tr>\n",
       "      <th>45</th>\n",
       "      <td>45</td>\n",
       "      <td>U+3091</td>\n",
       "      <td>ゑ</td>\n",
       "    </tr>\n",
       "    <tr>\n",
       "      <th>46</th>\n",
       "      <td>46</td>\n",
       "      <td>U+3092</td>\n",
       "      <td>を</td>\n",
       "    </tr>\n",
       "    <tr>\n",
       "      <th>47</th>\n",
       "      <td>47</td>\n",
       "      <td>U+3093</td>\n",
       "      <td>ん</td>\n",
       "    </tr>\n",
       "    <tr>\n",
       "      <th>48</th>\n",
       "      <td>48</td>\n",
       "      <td>U+309D</td>\n",
       "      <td>ゝ</td>\n",
       "    </tr>\n",
       "  </tbody>\n",
       "</table>\n",
       "</div>"
      ],
      "text/plain": [
       "    index codepoint char\n",
       "44     44    U+3090    ゐ\n",
       "45     45    U+3091    ゑ\n",
       "46     46    U+3092    を\n",
       "47     47    U+3093    ん\n",
       "48     48    U+309D    ゝ"
      ]
     },
     "execution_count": 4,
     "metadata": {},
     "output_type": "execute_result"
    }
   ],
   "source": [
    "#Lendo o classmap para definir as classes\n",
    "df = pd.read_csv('k49_classmap.csv', encoding = 'utf-8')\n",
    "print(df.shape)\n",
    "classes = df['char'].values\n",
    "df.tail()"
   ]
  },
  {
   "cell_type": "code",
   "execution_count": 5,
   "metadata": {},
   "outputs": [
    {
     "name": "stdout",
     "output_type": "stream",
     "text": [
      "X train shape: (232365, 28, 28)\n",
      "X test shape: (38547, 28, 28)\n",
      "y train shape: (232365,)\n",
      "y test shape: (38547,)\n"
     ]
    }
   ],
   "source": [
    "# Definindo o conjunto de treino\n",
    "X_train = np.load('k49-train-imgs.npz')['arr_0']\n",
    "y_train = np.load('k49-train-labels.npz')['arr_0']\n",
    "\n",
    "# Definindo o conjunto de teste\n",
    "X_test = np.load('k49-test-imgs.npz')['arr_0']\n",
    "y_test = np.load('k49-test-labels.npz')['arr_0']\n",
    "\n",
    "print(\"X train shape:\", X_train.shape)\n",
    "print(\"X test shape:\", X_test.shape)\n",
    "print(\"y train shape:\", y_train.shape)\n",
    "print(\"y test shape:\", y_test.shape)"
   ]
  },
  {
   "cell_type": "code",
   "execution_count": 6,
   "metadata": {},
   "outputs": [
    {
     "name": "stdout",
     "output_type": "stream",
     "text": [
      "あ い う え お\n"
     ]
    },
    {
     "data": {
      "application/vnd.jupyter.widget-view+json": {
       "model_id": "60bd5266e46a43e6b3f9f03c75ab0cfb",
       "version_major": 2,
       "version_minor": 0
      },
      "text/plain": [
       "HBox(children=(IntProgress(value=0, max=5), HTML(value='')))"
      ]
     },
     "metadata": {},
     "output_type": "display_data"
    },
    {
     "name": "stdout",
     "output_type": "stream",
     "text": [
      "\n"
     ]
    },
    {
     "data": {
      "image/png": "[encoded data removed]",
      "text/plain": [
       "<Figure size 864x864 with 50 Axes>"
      ]
     },
     "metadata": {},
     "output_type": "display_data"
    }
   ],
   "source": [
    "#Plotando as imagens das vogais (a, i, u, e, o)\n",
    "def plt_img(img, lb, classes):\n",
    "    plt.figure(figsize=(12,12))\n",
    "    print(classes[0], classes[1], classes[2], classes[3], classes[4])\n",
    "    for i in tqdm_notebook(range(5)):\n",
    "        imgs = img[np.where(lb == i)]\n",
    "        lbls = lb[np.where(lb == i)]\n",
    "        for j in range(10):\n",
    "            plt.subplot(10,10,i*10+j+1)\n",
    "            plt.xticks([])\n",
    "            plt.yticks([])\n",
    "            plt.grid(False)\n",
    "            plt.imshow(imgs[j], cmap=plt.cm.binary)\n",
    "            plt.xlabel(lbls[j])\n",
    "\n",
    "plt_img(X_train, y_train, classes)"
   ]
  },
  {
   "cell_type": "markdown",
   "metadata": {},
   "source": [
    "- Separando os dados de treino entre treino e validação"
   ]
  },
  {
   "cell_type": "code",
   "execution_count": 7,
   "metadata": {},
   "outputs": [],
   "source": [
    "X_train, X_valid, y_train, y_valid = train_test_split(X_train, y_train, test_size=0.10, random_state=42)"
   ]
  },
  {
   "cell_type": "code",
   "execution_count": 8,
   "metadata": {},
   "outputs": [],
   "source": [
    "#Criando a classe do Dataset\n",
    "class Kmnist(Dataset):\n",
    "    def __init__(self, datax, datay, transform=None):        \n",
    "        self.x_kmnist = list(datax)\n",
    "        self.y_kmnist = list(datay)\n",
    "        self.transform = transform\n",
    "        \n",
    "        self.labels = np.asarray(self.y_kmnist)\n",
    "        self.images = np.asarray(self.x_kmnist).reshape(-1, 28, 28).astype('float32')\n",
    "        \n",
    "    def __len__(self):\n",
    "        return len(self.images)\n",
    "    \n",
    "    def __getitem__(self, idx):\n",
    "        label = self.labels[idx]\n",
    "        image = self.images[idx]      \n",
    "        \n",
    "        if self.transform is not None:\n",
    "            pil_image = Image.fromarray(np.uint8(image)) \n",
    "            image = self.transform(pil_image)\n",
    "            \n",
    "        return image, label"
   ]
  },
  {
   "cell_type": "markdown",
   "metadata": {},
   "source": [
    "## Connected Neural Network: LeNet-5\n",
    "\n",
    "LeNet foi uma das primeiras Redes Neurais Convolucionais, criada originalmente para o dataset MNIST. Sua arquitetura consiste em dois grupos de layers de pooling médio e convolucional, um layer de achatamento convolucional, dois layers totalmente conectados e, por último, um classificador ReLU."
   ]
  },
  {
   "cell_type": "code",
   "execution_count": 9,
   "metadata": {},
   "outputs": [],
   "source": [
    "LeTransform = transforms.Compose([\n",
    "    transforms.ToTensor()\n",
    "])\n",
    "\n",
    "lenet_train = DataLoader(Kmnist(X_train, y_train, transform=LeTransform), batch_size=BATCH_SIZE, shuffle=True)\n",
    "lenet_valid = DataLoader(Kmnist(X_valid, y_valid, transform=LeTransform), batch_size=BATCH_SIZE, shuffle=True)\n",
    "lenet_test = DataLoader(Kmnist(X_test, y_test, transform=LeTransform), batch_size=BATCH_SIZE, shuffle=True)"
   ]
  },
  {
   "cell_type": "markdown",
   "metadata": {},
   "source": [
    "Arquitetura da LeNet:\n",
    "\n",
    "- Primeira layer convolucional: entrada de um canal para 6 feature maps e kernel 5x5\n",
    "- Segunda layer convlucional: entrada de 6 canais e saída de 32, kernel 5x5\n",
    "- Primeira layer fully-connected: ligando 32 feature maps a 120 unidades de saída\n",
    "- Segunda layer fully-connected: liga 120 entradas a 84 unidades de saída\n",
    "- Terceira layer fully-connected: liga 84 entradas a 10 unidades de saída\n",
    "\n",
    "Aplicação:\n",
    "\n",
    "- Aplica-se primeira layer convolucional seguida de ReLU e maxpooling\n",
    "- Aplica-se segunda layer convolucional seguida de ReLU e maxpooling\n",
    "- Transforma o dado da imagem em um único vetor\n",
    "- Aplica a primeira layer fully-connected seguida de ReLU\n",
    "- Aplica a segunda layer fully-connected seguida de ReLU\n",
    "- Aplica a terceira layer fully-connected"
   ]
  },
  {
   "cell_type": "code",
   "execution_count": 10,
   "metadata": {},
   "outputs": [
    {
     "data": {
      "text/plain": [
       "leNet(\n",
       "  (cv1): Conv2d(1, 6, kernel_size=(5, 5), stride=(1, 1), padding=(2, 2))\n",
       "  (cv2): Conv2d(6, 16, kernel_size=(5, 5), stride=(1, 1))\n",
       "  (fc1): Linear(in_features=400, out_features=120, bias=True)\n",
       "  (fc2): Linear(in_features=120, out_features=84, bias=True)\n",
       "  (fc3): Linear(in_features=84, out_features=49, bias=True)\n",
       ")"
      ]
     },
     "execution_count": 10,
     "metadata": {},
     "output_type": "execute_result"
    }
   ],
   "source": [
    "class leNet(nn.Module):\n",
    "    def __init__(self):\n",
    "        super(leNet, self).__init__()\n",
    "        self.cv1 = nn.Conv2d(1, 6, 5, 1,  2)\n",
    "        self.cv2 = nn.Conv2d(6, 16, 5)\n",
    "        self.fc1 = nn.Linear(16*5*5, 120)\n",
    "        self.fc2 = nn.Linear(120, 84)\n",
    "        self.fc3 = nn.Linear(84, 49)\n",
    "        \n",
    "    def forward(self, x):\n",
    "        x = F.max_pool2d(F.relu(self.cv1(x)), 2)\n",
    "        x = F.max_pool2d(F.relu(self.cv2(x)), 2)\n",
    "        x = x.view(-1, 16*5*5)\n",
    "        x = F.relu(self.fc1(x))\n",
    "        x = F.relu(self.fc2(x))\n",
    "        x = self.fc3(x)\n",
    "        return x\n",
    "\n",
    "lenet = leNet()\n",
    "lenet.cuda()"
   ]
  },
  {
   "cell_type": "markdown",
   "metadata": {},
   "source": [
    "- Para a escolha dos parâmetros, utilizamos uma taxa aprendizado de 0.001"
   ]
  },
  {
   "cell_type": "code",
   "execution_count": 11,
   "metadata": {},
   "outputs": [],
   "source": [
    "criterion = nn.CrossEntropyLoss()\n",
    "optimizer_lenet = optim.SGD(lenet.parameters(), lr = 0.001, momentum = 0.9)"
   ]
  },
  {
   "cell_type": "code",
   "execution_count": 13,
   "metadata": {
    "scrolled": true
   },
   "outputs": [
    {
     "name": "stdout",
     "output_type": "stream",
     "text": [
      "[Epoch  1] loss: 0.546\n",
      "[Epoch  1] loss: 0.205\n",
      "Finished Training LeNet\n"
     ]
    }
   ],
   "source": [
    "# Iterando sobre os dados de treino\n",
    "n = ((X_train.shape[0]) // BATCH_SIZE)\n",
    "lenet_loss = []\n",
    "lenet_train_acc = []\n",
    "\n",
    "for epoch in range(EPOCHS):\n",
    "    running_loss = 0.0\n",
    "    correct = 0\n",
    "    total = 0\n",
    "    for batch_idx, (data, target) in enumerate(lenet_train):\n",
    "        target = target.type(torch.LongTensor)\n",
    "        data, target = data.to(DEVICE), target.to(DEVICE)\n",
    "\n",
    "        optimizer_lenet.zero_grad()\n",
    "\n",
    "        outputs = lenet(data)\n",
    "        loss = criterion(outputs, target)\n",
    "        loss.backward()\n",
    "        optimizer_lenet.step()\n",
    "        \n",
    "        _, predicted = torch.max(outputs.data, 1)\n",
    "        total += target.size(0)\n",
    "        correct += (predicted == target).sum().item()\n",
    "\n",
    "        running_loss += loss.item()\n",
    "        if (batch_idx == n/2) or (batch_idx == n-1):\n",
    "            print('[Epoch %2d] loss: %.3f' % (epoch + 1, running_loss/n))\n",
    "            lenet_loss.append(running_loss/n)\n",
    "            running_loss = 0.0\n",
    "            \n",
    "    lenet_train_acc.append(100 * correct / total)\n",
    "\n",
    "print('Finished Training LeNet')"
   ]
  },
  {
   "cell_type": "code",
   "execution_count": 14,
   "metadata": {},
   "outputs": [],
   "source": [
    "# Salvando o modelo treinado\n",
    "PATH = './kmnist_lenet.pth'\n",
    "torch.save(lenet.state_dict(), PATH)"
   ]
  },
  {
   "cell_type": "code",
   "execution_count": 15,
   "metadata": {},
   "outputs": [
    {
     "name": "stdout",
     "output_type": "stream",
     "text": [
      "Acurácia da rede nas imagens de validação: 89 %\n"
     ]
    }
   ],
   "source": [
    "# Testando a acurácia da rede para o conjunto de validação\n",
    "correct = 0\n",
    "total = 0\n",
    "\n",
    "with torch.no_grad():\n",
    "    for data, target in lenet_valid:\n",
    "        target = target.type(torch.LongTensor)\n",
    "        images, target = data.to(DEVICE), target.to(DEVICE)\n",
    "        outputs = lenet(images)\n",
    "        _, predicted = torch.max(outputs.data, 1)\n",
    "        total += target.size(0)\n",
    "        correct += (predicted == target).sum().item()\n",
    "\n",
    "lenet_valid_acc = 100 * correct / total\n",
    "print('Acurácia da rede nas imagens de validação: %d %%' % lenet_valid_acc)"
   ]
  },
  {
   "cell_type": "code",
   "execution_count": 16,
   "metadata": {},
   "outputs": [
    {
     "name": "stdout",
     "output_type": "stream",
     "text": [
      "Acurácia da rede nas imagens de teste: 83 %\n"
     ]
    }
   ],
   "source": [
    "# Testando a acurácia da rede em todo o conjunto de teste\n",
    "correct = 0\n",
    "total = 0\n",
    "\n",
    "with torch.no_grad():\n",
    "    for data, target in lenet_test:\n",
    "        target = target.type(torch.LongTensor)\n",
    "        images, target = data.to(DEVICE), target.to(DEVICE)\n",
    "        outputs = lenet(images)\n",
    "        _, predicted = torch.max(outputs.data, 1)\n",
    "        total += target.size(0)\n",
    "        correct += (predicted == target).sum().item()\n",
    "\n",
    "lenet_test_acc = 100 * correct / total\n",
    "print('Acurácia da rede nas imagens de teste: %d %%' % lenet_test_acc)"
   ]
  },
  {
   "cell_type": "code",
   "execution_count": 20,
   "metadata": {},
   "outputs": [
    {
     "name": "stdout",
     "output_type": "stream",
     "text": [
      "Verificação de acurácia por classes terminada!\n"
     ]
    }
   ],
   "source": [
    "# Avaliando a acurácia em cada classe\n",
    "class_correct = list(0. for i in range(49))\n",
    "class_total = list(0. for i in range(49))\n",
    "\n",
    "with torch.no_grad():\n",
    "    for data, target in lenet_test:\n",
    "        target = target.type(torch.LongTensor)\n",
    "        images, target = data.to(DEVICE), target.to(DEVICE)\n",
    "        outputs = lenet(images)\n",
    "        _, predicted = torch.max(outputs, 1)\n",
    "        c = (predicted == target).squeeze()\n",
    "        for i in range(3):\n",
    "            label = target[i]\n",
    "            class_correct[label] += c[i].item()\n",
    "            class_total[label] += 1\n",
    "\n",
    "lenet_class_acc = []\n",
    "for i in range(10):\n",
    "    lenet_class_acc.append(100 * class_correct[i] / class_total[i])\n",
    "print('Verificação de acurácia por classes terminada!')"
   ]
  },
  {
   "cell_type": "markdown",
   "metadata": {},
   "source": [
    "## Connected Neural Network: AlexNet\n",
    "\n",
    "AlexNet é uma Rede Neural Convolucional criada por Alex Krizhevsky que ficou no Top-5 do Desafio de Reconhecimento de Imagens da ImageNet, em 2012.\n",
    "Sua arquitetura é formada por 5 layers convolucionais seguidas de 3 fully connected, além de usar ReLu como função de ativação.\n"
   ]
  },
  {
   "cell_type": "markdown",
   "metadata": {},
   "source": [
    "- Como a entrada do AlexNet recebe apenas imagens 227x227 e o KMINIST tem 28x28, será necessário redimensionar as imagens.\n",
    "- Como o *torchvision.transform.Resize* só aceita imagens PIL, elas são convertidas para este formato dentro da classe."
   ]
  },
  {
   "cell_type": "code",
   "execution_count": 27,
   "metadata": {},
   "outputs": [],
   "source": [
    "#Preparando os dados para o AlexNet\n",
    "AlexTransform = transforms.Compose([\n",
    "    transforms.Resize((227, 227)),\n",
    "    transforms.ToTensor(),\n",
    "    transforms.Normalize((0.1307,), (0.3081,))\n",
    "])\n",
    "\n",
    "train = DataLoader(Kmnist(X_train, y_train, transform=AlexTransform), batch_size=BATCH_SIZE, shuffle=True)\n",
    "valid = DataLoader(Kmnist(X_valid, y_valid, transform=LeTransform), batch_size=BATCH_SIZE, shuffle=True)\n",
    "test = DataLoader(Kmnist(X_test, y_test, transform=AlexTransform), batch_size=BATCH_SIZE, shuffle=True)"
   ]
  },
  {
   "cell_type": "markdown",
   "metadata": {},
   "source": [
    "Arquitetura da AlexNet:\n",
    "\n",
    "- Primeira layer convolucional: entrada de 1 canal para 96 feature maps, kernel 11x11, stride=4 e padding=0\n",
    "- Segunda layer convlucional: entrada de 96 canais e saída de 256, kernel 5x5, stride=1 e padding=2\n",
    "- Terceira layer convlucional: entrada de 256 canais e saída de 384, kernel 3x3, stride=1 e padding=1\n",
    "- Quarta layer convlucional: entrada de 384 para 384, kernel 3x3, stride=1 e padding=1\n",
    "- Quinta layer convlucional: entrada de 384 canais e saída de 256, kernel 3x3, stride=1 e padding=1\n",
    "- Primeira layer fully-connected: ligando os feature maps de entrada a 4096 unidades de saída\n",
    "- Segunda layer fully-connected: liga 4096 entradas a 4096 unidades de saída\n",
    "- Terceira layer fully-connected: liga 4096 entradas a 10 unidades de saída\n",
    "\n",
    "Aplicação:\n",
    "\n",
    "- A primeria layer convolucional é aplicada e seguida de ReLu e MaxPool de kernel 3x3 e stride=2\n",
    "- A segunda layer convolucional é aplicada e seguida de ReLu e MaxPool de kernel 3x3 e stride=2\n",
    "- A terceira layer convolucional é aplicada e seguida de ReLu\n",
    "- A quarta layer convolucional é aplicada e seguida de ReLu\n",
    "- A quinta layer convolucional é aplicada e seguida de ReLu e MaxPool de kernel 3x3 e stride=2\n",
    "- Os dados da imagem são transformados em um único vetor\n",
    "- Aplica-se a primeira layer fully-connected seguida de ReLU\n",
    "- Aplica-se a segunda layer fully-connected seguida de ReLU\n",
    "- Aplica-se a terceira layer fully-connected\n",
    "- Aplica-se softmax seguido de logaritmo"
   ]
  },
  {
   "cell_type": "code",
   "execution_count": 28,
   "metadata": {},
   "outputs": [],
   "source": [
    "#Criando a classe da CNN\n",
    "class AlexNet(nn.Module):\n",
    "        def __init__(self):\n",
    "            super().__init__()\n",
    "            self.cv1 = nn.Sequential(\n",
    "                nn.Conv2d(1, 96, 11, 4, 0),\n",
    "                nn.ReLU(),\n",
    "                nn.MaxPool2d(3, 2)\n",
    "            )\n",
    "            self.cv2 = nn.Sequential(\n",
    "                nn.Conv2d(96, 256, 5, 1, 2),\n",
    "                nn.ReLU(),\n",
    "                nn.MaxPool2d(3, 2)\n",
    "            )\n",
    "            self.cv3 = nn.Sequential(\n",
    "                nn.Conv2d(256, 384, 3, 1, 1),\n",
    "                nn.ReLU()\n",
    "            )\n",
    "            self.cv4 = nn.Sequential(\n",
    "                nn.Conv2d(384, 384, 3, 1, 1),\n",
    "                nn.ReLU()\n",
    "            )\n",
    "            self.cv5 = nn.Sequential(\n",
    "                nn.Conv2d(384, 256, 3, 1, 1),\n",
    "                nn.ReLU(),\n",
    "                nn.MaxPool2d(3, 2)\n",
    "            )\n",
    "            self.fc1 = nn.Linear(256*6*6, 4096)\n",
    "            self.fc2 = nn.Linear(4096, 4096)\n",
    "            self.fc3 = nn.Linear(4096, 49)\n",
    "\n",
    "        def forward(self, x):\n",
    "            out = self.cv1(x)\n",
    "            out = self.cv2(out)\n",
    "            out = self.cv3(out)\n",
    "            out = self.cv4(out)\n",
    "            out = self.cv5(out)\n",
    "            out = out.view(out.size(0), -1)\n",
    "\n",
    "            out = F.relu(self.fc1(out))\n",
    "            out = F.dropout(out, 0.5)\n",
    "            out = F.relu(self.fc2(out))\n",
    "            out = F.dropout(out, 0.5)\n",
    "            out = self.fc3(out)\n",
    "            out = F.log_softmax(out, dim=1)\n",
    "\n",
    "            return out\n",
    "        \n",
    "alexnet = AlexNet().to(DEVICE)"
   ]
  },
  {
   "cell_type": "markdown",
   "metadata": {},
   "source": [
    "- Para a escolha dos parâmetros, utilizamos uma taxa aprendizado de 0.001"
   ]
  },
  {
   "cell_type": "code",
   "execution_count": 29,
   "metadata": {},
   "outputs": [],
   "source": [
    "# Vamos utilizar a loss \"Classification Cross-Entropy\" e gradiente descentende\n",
    "criterion = nn.CrossEntropyLoss()\n",
    "optimizer = optim.SGD(alexnet.parameters(), lr = 0.001, momentum = 0.9)"
   ]
  },
  {
   "cell_type": "markdown",
   "metadata": {},
   "source": [
    "### Treinando a Rede"
   ]
  },
  {
   "cell_type": "code",
   "execution_count": 30,
   "metadata": {},
   "outputs": [
    {
     "ename": "KeyboardInterrupt",
     "evalue": "",
     "output_type": "error",
     "traceback": [
      "\u001b[1;31m---------------------------------------------------------------------------\u001b[0m",
      "\u001b[1;31mKeyboardInterrupt\u001b[0m                         Traceback (most recent call last)",
      "\u001b[1;32m<ipython-input-30-6706ac0660c1>\u001b[0m in \u001b[0;36m<module>\u001b[1;34m\u001b[0m\n\u001b[0;32m     17\u001b[0m         \u001b[0mloss\u001b[0m \u001b[1;33m=\u001b[0m \u001b[0mcriterion\u001b[0m\u001b[1;33m(\u001b[0m\u001b[0moutputs\u001b[0m\u001b[1;33m,\u001b[0m \u001b[0mtarget\u001b[0m\u001b[1;33m)\u001b[0m\u001b[1;33m\u001b[0m\u001b[1;33m\u001b[0m\u001b[0m\n\u001b[0;32m     18\u001b[0m         \u001b[0mloss\u001b[0m\u001b[1;33m.\u001b[0m\u001b[0mbackward\u001b[0m\u001b[1;33m(\u001b[0m\u001b[1;33m)\u001b[0m\u001b[1;33m\u001b[0m\u001b[1;33m\u001b[0m\u001b[0m\n\u001b[1;32m---> 19\u001b[1;33m         \u001b[0moptimizer\u001b[0m\u001b[1;33m.\u001b[0m\u001b[0mstep\u001b[0m\u001b[1;33m(\u001b[0m\u001b[1;33m)\u001b[0m\u001b[1;33m\u001b[0m\u001b[1;33m\u001b[0m\u001b[0m\n\u001b[0m\u001b[0;32m     20\u001b[0m \u001b[1;33m\u001b[0m\u001b[0m\n\u001b[0;32m     21\u001b[0m         \u001b[0m_\u001b[0m\u001b[1;33m,\u001b[0m \u001b[0mpredicted\u001b[0m \u001b[1;33m=\u001b[0m \u001b[0mtorch\u001b[0m\u001b[1;33m.\u001b[0m\u001b[0mmax\u001b[0m\u001b[1;33m(\u001b[0m\u001b[0moutputs\u001b[0m\u001b[1;33m.\u001b[0m\u001b[0mdata\u001b[0m\u001b[1;33m,\u001b[0m \u001b[1;36m1\u001b[0m\u001b[1;33m)\u001b[0m\u001b[1;33m\u001b[0m\u001b[1;33m\u001b[0m\u001b[0m\n",
      "\u001b[1;32m~\\Anaconda3\\lib\\site-packages\\torch\\optim\\sgd.py\u001b[0m in \u001b[0;36mstep\u001b[1;34m(self, closure)\u001b[0m\n\u001b[0;32m     98\u001b[0m                     \u001b[1;32melse\u001b[0m\u001b[1;33m:\u001b[0m\u001b[1;33m\u001b[0m\u001b[1;33m\u001b[0m\u001b[0m\n\u001b[0;32m     99\u001b[0m                         \u001b[0mbuf\u001b[0m \u001b[1;33m=\u001b[0m \u001b[0mparam_state\u001b[0m\u001b[1;33m[\u001b[0m\u001b[1;34m'momentum_buffer'\u001b[0m\u001b[1;33m]\u001b[0m\u001b[1;33m\u001b[0m\u001b[1;33m\u001b[0m\u001b[0m\n\u001b[1;32m--> 100\u001b[1;33m                         \u001b[0mbuf\u001b[0m\u001b[1;33m.\u001b[0m\u001b[0mmul_\u001b[0m\u001b[1;33m(\u001b[0m\u001b[0mmomentum\u001b[0m\u001b[1;33m)\u001b[0m\u001b[1;33m.\u001b[0m\u001b[0madd_\u001b[0m\u001b[1;33m(\u001b[0m\u001b[1;36m1\u001b[0m \u001b[1;33m-\u001b[0m \u001b[0mdampening\u001b[0m\u001b[1;33m,\u001b[0m \u001b[0md_p\u001b[0m\u001b[1;33m)\u001b[0m\u001b[1;33m\u001b[0m\u001b[1;33m\u001b[0m\u001b[0m\n\u001b[0m\u001b[0;32m    101\u001b[0m                     \u001b[1;32mif\u001b[0m \u001b[0mnesterov\u001b[0m\u001b[1;33m:\u001b[0m\u001b[1;33m\u001b[0m\u001b[1;33m\u001b[0m\u001b[0m\n\u001b[0;32m    102\u001b[0m                         \u001b[0md_p\u001b[0m \u001b[1;33m=\u001b[0m \u001b[0md_p\u001b[0m\u001b[1;33m.\u001b[0m\u001b[0madd\u001b[0m\u001b[1;33m(\u001b[0m\u001b[0mmomentum\u001b[0m\u001b[1;33m,\u001b[0m \u001b[0mbuf\u001b[0m\u001b[1;33m)\u001b[0m\u001b[1;33m\u001b[0m\u001b[1;33m\u001b[0m\u001b[0m\n",
      "\u001b[1;31mKeyboardInterrupt\u001b[0m: "
     ]
    }
   ],
   "source": [
    "# Iterando sobre os dados\n",
    "n = ((X_train.shape[0]) // BATCH_SIZE)\n",
    "alexnet_loss = []\n",
    "alexnet_train_acc = []\n",
    "\n",
    "for epoch in range(EPOCHS):\n",
    "    running_loss = 0.0\n",
    "    correct = 0\n",
    "    total = 0\n",
    "    for batch_idx, (data, target) in enumerate(train):\n",
    "        target = target.type(torch.LongTensor)\n",
    "        data, target = data.to(DEVICE), target.to(DEVICE)\n",
    "        optimizer.zero_grad()\n",
    "        \n",
    "        # Forward + Backward + Otimização\n",
    "        outputs = alexnet(data)\n",
    "        loss = criterion(outputs, target)\n",
    "        loss.backward()\n",
    "        optimizer.step()\n",
    "        \n",
    "        _, predicted = torch.max(outputs.data, 1)\n",
    "        total += target.size(0)\n",
    "        correct += (predicted == target).sum().item() \n",
    "\n",
    "        # Printando as estatísticas\n",
    "        running_loss += loss.item()\n",
    "        if (batch_idx == n/2) or (batch_idx == n-1):\n",
    "            print('[Epoch %2d] loss: %.3f' % (epoch + 1, running_loss/n))\n",
    "            alexnet_loss.append(running_loss/n)\n",
    "            running_loss = 0.0\n",
    "            \n",
    "    alexnet_train_acc.append(100 * correct / total)\n",
    "    \n",
    "print('Finished Training on the AlexNet')"
   ]
  },
  {
   "cell_type": "code",
   "execution_count": 31,
   "metadata": {},
   "outputs": [],
   "source": [
    "# Salvando o modelo treinado\n",
    "PATH = './kmnist_alexnet.pth'\n",
    "torch.save(alexnet.state_dict(), PATH)"
   ]
  },
  {
   "cell_type": "code",
   "execution_count": 32,
   "metadata": {},
   "outputs": [
    {
     "ename": "RuntimeError",
     "evalue": "Given input size: (256x2x2). Calculated output size: (256x0x0). Output size is too small",
     "output_type": "error",
     "traceback": [
      "\u001b[1;31m---------------------------------------------------------------------------\u001b[0m",
      "\u001b[1;31mRuntimeError\u001b[0m                              Traceback (most recent call last)",
      "\u001b[1;32m<ipython-input-32-283514d95169>\u001b[0m in \u001b[0;36m<module>\u001b[1;34m\u001b[0m\n\u001b[0;32m      7\u001b[0m         \u001b[0mtarget\u001b[0m \u001b[1;33m=\u001b[0m \u001b[0mtarget\u001b[0m\u001b[1;33m.\u001b[0m\u001b[0mtype\u001b[0m\u001b[1;33m(\u001b[0m\u001b[0mtorch\u001b[0m\u001b[1;33m.\u001b[0m\u001b[0mLongTensor\u001b[0m\u001b[1;33m)\u001b[0m\u001b[1;33m\u001b[0m\u001b[1;33m\u001b[0m\u001b[0m\n\u001b[0;32m      8\u001b[0m         \u001b[0mimages\u001b[0m\u001b[1;33m,\u001b[0m \u001b[0mtarget\u001b[0m \u001b[1;33m=\u001b[0m \u001b[0mdata\u001b[0m\u001b[1;33m.\u001b[0m\u001b[0mto\u001b[0m\u001b[1;33m(\u001b[0m\u001b[0mDEVICE\u001b[0m\u001b[1;33m)\u001b[0m\u001b[1;33m,\u001b[0m \u001b[0mtarget\u001b[0m\u001b[1;33m.\u001b[0m\u001b[0mto\u001b[0m\u001b[1;33m(\u001b[0m\u001b[0mDEVICE\u001b[0m\u001b[1;33m)\u001b[0m\u001b[1;33m\u001b[0m\u001b[1;33m\u001b[0m\u001b[0m\n\u001b[1;32m----> 9\u001b[1;33m         \u001b[0moutputs\u001b[0m \u001b[1;33m=\u001b[0m \u001b[0malexnet\u001b[0m\u001b[1;33m(\u001b[0m\u001b[0mimages\u001b[0m\u001b[1;33m)\u001b[0m\u001b[1;33m\u001b[0m\u001b[1;33m\u001b[0m\u001b[0m\n\u001b[0m\u001b[0;32m     10\u001b[0m         \u001b[0m_\u001b[0m\u001b[1;33m,\u001b[0m \u001b[0mpredicted\u001b[0m \u001b[1;33m=\u001b[0m \u001b[0mtorch\u001b[0m\u001b[1;33m.\u001b[0m\u001b[0mmax\u001b[0m\u001b[1;33m(\u001b[0m\u001b[0moutputs\u001b[0m\u001b[1;33m.\u001b[0m\u001b[0mdata\u001b[0m\u001b[1;33m,\u001b[0m \u001b[1;36m1\u001b[0m\u001b[1;33m)\u001b[0m\u001b[1;33m\u001b[0m\u001b[1;33m\u001b[0m\u001b[0m\n\u001b[0;32m     11\u001b[0m         \u001b[0mtotal\u001b[0m \u001b[1;33m+=\u001b[0m \u001b[0mtarget\u001b[0m\u001b[1;33m.\u001b[0m\u001b[0msize\u001b[0m\u001b[1;33m(\u001b[0m\u001b[1;36m0\u001b[0m\u001b[1;33m)\u001b[0m\u001b[1;33m\u001b[0m\u001b[1;33m\u001b[0m\u001b[0m\n",
      "\u001b[1;32m~\\Anaconda3\\lib\\site-packages\\torch\\nn\\modules\\module.py\u001b[0m in \u001b[0;36m__call__\u001b[1;34m(self, *input, **kwargs)\u001b[0m\n\u001b[0;32m    545\u001b[0m             \u001b[0mresult\u001b[0m \u001b[1;33m=\u001b[0m \u001b[0mself\u001b[0m\u001b[1;33m.\u001b[0m\u001b[0m_slow_forward\u001b[0m\u001b[1;33m(\u001b[0m\u001b[1;33m*\u001b[0m\u001b[0minput\u001b[0m\u001b[1;33m,\u001b[0m \u001b[1;33m**\u001b[0m\u001b[0mkwargs\u001b[0m\u001b[1;33m)\u001b[0m\u001b[1;33m\u001b[0m\u001b[1;33m\u001b[0m\u001b[0m\n\u001b[0;32m    546\u001b[0m         \u001b[1;32melse\u001b[0m\u001b[1;33m:\u001b[0m\u001b[1;33m\u001b[0m\u001b[1;33m\u001b[0m\u001b[0m\n\u001b[1;32m--> 547\u001b[1;33m             \u001b[0mresult\u001b[0m \u001b[1;33m=\u001b[0m \u001b[0mself\u001b[0m\u001b[1;33m.\u001b[0m\u001b[0mforward\u001b[0m\u001b[1;33m(\u001b[0m\u001b[1;33m*\u001b[0m\u001b[0minput\u001b[0m\u001b[1;33m,\u001b[0m \u001b[1;33m**\u001b[0m\u001b[0mkwargs\u001b[0m\u001b[1;33m)\u001b[0m\u001b[1;33m\u001b[0m\u001b[1;33m\u001b[0m\u001b[0m\n\u001b[0m\u001b[0;32m    548\u001b[0m         \u001b[1;32mfor\u001b[0m \u001b[0mhook\u001b[0m \u001b[1;32min\u001b[0m \u001b[0mself\u001b[0m\u001b[1;33m.\u001b[0m\u001b[0m_forward_hooks\u001b[0m\u001b[1;33m.\u001b[0m\u001b[0mvalues\u001b[0m\u001b[1;33m(\u001b[0m\u001b[1;33m)\u001b[0m\u001b[1;33m:\u001b[0m\u001b[1;33m\u001b[0m\u001b[1;33m\u001b[0m\u001b[0m\n\u001b[0;32m    549\u001b[0m             \u001b[0mhook_result\u001b[0m \u001b[1;33m=\u001b[0m \u001b[0mhook\u001b[0m\u001b[1;33m(\u001b[0m\u001b[0mself\u001b[0m\u001b[1;33m,\u001b[0m \u001b[0minput\u001b[0m\u001b[1;33m,\u001b[0m \u001b[0mresult\u001b[0m\u001b[1;33m)\u001b[0m\u001b[1;33m\u001b[0m\u001b[1;33m\u001b[0m\u001b[0m\n",
      "\u001b[1;32m<ipython-input-28-374e11394221>\u001b[0m in \u001b[0;36mforward\u001b[1;34m(self, x)\u001b[0m\n\u001b[0;32m     32\u001b[0m         \u001b[1;32mdef\u001b[0m \u001b[0mforward\u001b[0m\u001b[1;33m(\u001b[0m\u001b[0mself\u001b[0m\u001b[1;33m,\u001b[0m \u001b[0mx\u001b[0m\u001b[1;33m)\u001b[0m\u001b[1;33m:\u001b[0m\u001b[1;33m\u001b[0m\u001b[1;33m\u001b[0m\u001b[0m\n\u001b[0;32m     33\u001b[0m             \u001b[0mout\u001b[0m \u001b[1;33m=\u001b[0m \u001b[0mself\u001b[0m\u001b[1;33m.\u001b[0m\u001b[0mcv1\u001b[0m\u001b[1;33m(\u001b[0m\u001b[0mx\u001b[0m\u001b[1;33m)\u001b[0m\u001b[1;33m\u001b[0m\u001b[1;33m\u001b[0m\u001b[0m\n\u001b[1;32m---> 34\u001b[1;33m             \u001b[0mout\u001b[0m \u001b[1;33m=\u001b[0m \u001b[0mself\u001b[0m\u001b[1;33m.\u001b[0m\u001b[0mcv2\u001b[0m\u001b[1;33m(\u001b[0m\u001b[0mout\u001b[0m\u001b[1;33m)\u001b[0m\u001b[1;33m\u001b[0m\u001b[1;33m\u001b[0m\u001b[0m\n\u001b[0m\u001b[0;32m     35\u001b[0m             \u001b[0mout\u001b[0m \u001b[1;33m=\u001b[0m \u001b[0mself\u001b[0m\u001b[1;33m.\u001b[0m\u001b[0mcv3\u001b[0m\u001b[1;33m(\u001b[0m\u001b[0mout\u001b[0m\u001b[1;33m)\u001b[0m\u001b[1;33m\u001b[0m\u001b[1;33m\u001b[0m\u001b[0m\n\u001b[0;32m     36\u001b[0m             \u001b[0mout\u001b[0m \u001b[1;33m=\u001b[0m \u001b[0mself\u001b[0m\u001b[1;33m.\u001b[0m\u001b[0mcv4\u001b[0m\u001b[1;33m(\u001b[0m\u001b[0mout\u001b[0m\u001b[1;33m)\u001b[0m\u001b[1;33m\u001b[0m\u001b[1;33m\u001b[0m\u001b[0m\n",
      "\u001b[1;32m~\\Anaconda3\\lib\\site-packages\\torch\\nn\\modules\\module.py\u001b[0m in \u001b[0;36m__call__\u001b[1;34m(self, *input, **kwargs)\u001b[0m\n\u001b[0;32m    545\u001b[0m             \u001b[0mresult\u001b[0m \u001b[1;33m=\u001b[0m \u001b[0mself\u001b[0m\u001b[1;33m.\u001b[0m\u001b[0m_slow_forward\u001b[0m\u001b[1;33m(\u001b[0m\u001b[1;33m*\u001b[0m\u001b[0minput\u001b[0m\u001b[1;33m,\u001b[0m \u001b[1;33m**\u001b[0m\u001b[0mkwargs\u001b[0m\u001b[1;33m)\u001b[0m\u001b[1;33m\u001b[0m\u001b[1;33m\u001b[0m\u001b[0m\n\u001b[0;32m    546\u001b[0m         \u001b[1;32melse\u001b[0m\u001b[1;33m:\u001b[0m\u001b[1;33m\u001b[0m\u001b[1;33m\u001b[0m\u001b[0m\n\u001b[1;32m--> 547\u001b[1;33m             \u001b[0mresult\u001b[0m \u001b[1;33m=\u001b[0m \u001b[0mself\u001b[0m\u001b[1;33m.\u001b[0m\u001b[0mforward\u001b[0m\u001b[1;33m(\u001b[0m\u001b[1;33m*\u001b[0m\u001b[0minput\u001b[0m\u001b[1;33m,\u001b[0m \u001b[1;33m**\u001b[0m\u001b[0mkwargs\u001b[0m\u001b[1;33m)\u001b[0m\u001b[1;33m\u001b[0m\u001b[1;33m\u001b[0m\u001b[0m\n\u001b[0m\u001b[0;32m    548\u001b[0m         \u001b[1;32mfor\u001b[0m \u001b[0mhook\u001b[0m \u001b[1;32min\u001b[0m \u001b[0mself\u001b[0m\u001b[1;33m.\u001b[0m\u001b[0m_forward_hooks\u001b[0m\u001b[1;33m.\u001b[0m\u001b[0mvalues\u001b[0m\u001b[1;33m(\u001b[0m\u001b[1;33m)\u001b[0m\u001b[1;33m:\u001b[0m\u001b[1;33m\u001b[0m\u001b[1;33m\u001b[0m\u001b[0m\n\u001b[0;32m    549\u001b[0m             \u001b[0mhook_result\u001b[0m \u001b[1;33m=\u001b[0m \u001b[0mhook\u001b[0m\u001b[1;33m(\u001b[0m\u001b[0mself\u001b[0m\u001b[1;33m,\u001b[0m \u001b[0minput\u001b[0m\u001b[1;33m,\u001b[0m \u001b[0mresult\u001b[0m\u001b[1;33m)\u001b[0m\u001b[1;33m\u001b[0m\u001b[1;33m\u001b[0m\u001b[0m\n",
      "\u001b[1;32m~\\Anaconda3\\lib\\site-packages\\torch\\nn\\modules\\container.py\u001b[0m in \u001b[0;36mforward\u001b[1;34m(self, input)\u001b[0m\n\u001b[0;32m     90\u001b[0m     \u001b[1;32mdef\u001b[0m \u001b[0mforward\u001b[0m\u001b[1;33m(\u001b[0m\u001b[0mself\u001b[0m\u001b[1;33m,\u001b[0m \u001b[0minput\u001b[0m\u001b[1;33m)\u001b[0m\u001b[1;33m:\u001b[0m\u001b[1;33m\u001b[0m\u001b[1;33m\u001b[0m\u001b[0m\n\u001b[0;32m     91\u001b[0m         \u001b[1;32mfor\u001b[0m \u001b[0mmodule\u001b[0m \u001b[1;32min\u001b[0m \u001b[0mself\u001b[0m\u001b[1;33m.\u001b[0m\u001b[0m_modules\u001b[0m\u001b[1;33m.\u001b[0m\u001b[0mvalues\u001b[0m\u001b[1;33m(\u001b[0m\u001b[1;33m)\u001b[0m\u001b[1;33m:\u001b[0m\u001b[1;33m\u001b[0m\u001b[1;33m\u001b[0m\u001b[0m\n\u001b[1;32m---> 92\u001b[1;33m             \u001b[0minput\u001b[0m \u001b[1;33m=\u001b[0m \u001b[0mmodule\u001b[0m\u001b[1;33m(\u001b[0m\u001b[0minput\u001b[0m\u001b[1;33m)\u001b[0m\u001b[1;33m\u001b[0m\u001b[1;33m\u001b[0m\u001b[0m\n\u001b[0m\u001b[0;32m     93\u001b[0m         \u001b[1;32mreturn\u001b[0m \u001b[0minput\u001b[0m\u001b[1;33m\u001b[0m\u001b[1;33m\u001b[0m\u001b[0m\n\u001b[0;32m     94\u001b[0m \u001b[1;33m\u001b[0m\u001b[0m\n",
      "\u001b[1;32m~\\Anaconda3\\lib\\site-packages\\torch\\nn\\modules\\module.py\u001b[0m in \u001b[0;36m__call__\u001b[1;34m(self, *input, **kwargs)\u001b[0m\n\u001b[0;32m    545\u001b[0m             \u001b[0mresult\u001b[0m \u001b[1;33m=\u001b[0m \u001b[0mself\u001b[0m\u001b[1;33m.\u001b[0m\u001b[0m_slow_forward\u001b[0m\u001b[1;33m(\u001b[0m\u001b[1;33m*\u001b[0m\u001b[0minput\u001b[0m\u001b[1;33m,\u001b[0m \u001b[1;33m**\u001b[0m\u001b[0mkwargs\u001b[0m\u001b[1;33m)\u001b[0m\u001b[1;33m\u001b[0m\u001b[1;33m\u001b[0m\u001b[0m\n\u001b[0;32m    546\u001b[0m         \u001b[1;32melse\u001b[0m\u001b[1;33m:\u001b[0m\u001b[1;33m\u001b[0m\u001b[1;33m\u001b[0m\u001b[0m\n\u001b[1;32m--> 547\u001b[1;33m             \u001b[0mresult\u001b[0m \u001b[1;33m=\u001b[0m \u001b[0mself\u001b[0m\u001b[1;33m.\u001b[0m\u001b[0mforward\u001b[0m\u001b[1;33m(\u001b[0m\u001b[1;33m*\u001b[0m\u001b[0minput\u001b[0m\u001b[1;33m,\u001b[0m \u001b[1;33m**\u001b[0m\u001b[0mkwargs\u001b[0m\u001b[1;33m)\u001b[0m\u001b[1;33m\u001b[0m\u001b[1;33m\u001b[0m\u001b[0m\n\u001b[0m\u001b[0;32m    548\u001b[0m         \u001b[1;32mfor\u001b[0m \u001b[0mhook\u001b[0m \u001b[1;32min\u001b[0m \u001b[0mself\u001b[0m\u001b[1;33m.\u001b[0m\u001b[0m_forward_hooks\u001b[0m\u001b[1;33m.\u001b[0m\u001b[0mvalues\u001b[0m\u001b[1;33m(\u001b[0m\u001b[1;33m)\u001b[0m\u001b[1;33m:\u001b[0m\u001b[1;33m\u001b[0m\u001b[1;33m\u001b[0m\u001b[0m\n\u001b[0;32m    549\u001b[0m             \u001b[0mhook_result\u001b[0m \u001b[1;33m=\u001b[0m \u001b[0mhook\u001b[0m\u001b[1;33m(\u001b[0m\u001b[0mself\u001b[0m\u001b[1;33m,\u001b[0m \u001b[0minput\u001b[0m\u001b[1;33m,\u001b[0m \u001b[0mresult\u001b[0m\u001b[1;33m)\u001b[0m\u001b[1;33m\u001b[0m\u001b[1;33m\u001b[0m\u001b[0m\n",
      "\u001b[1;32m~\\Anaconda3\\lib\\site-packages\\torch\\nn\\modules\\pooling.py\u001b[0m in \u001b[0;36mforward\u001b[1;34m(self, input)\u001b[0m\n\u001b[0;32m    139\u001b[0m         return F.max_pool2d(input, self.kernel_size, self.stride,\n\u001b[0;32m    140\u001b[0m                             \u001b[0mself\u001b[0m\u001b[1;33m.\u001b[0m\u001b[0mpadding\u001b[0m\u001b[1;33m,\u001b[0m \u001b[0mself\u001b[0m\u001b[1;33m.\u001b[0m\u001b[0mdilation\u001b[0m\u001b[1;33m,\u001b[0m \u001b[0mself\u001b[0m\u001b[1;33m.\u001b[0m\u001b[0mceil_mode\u001b[0m\u001b[1;33m,\u001b[0m\u001b[1;33m\u001b[0m\u001b[1;33m\u001b[0m\u001b[0m\n\u001b[1;32m--> 141\u001b[1;33m                             self.return_indices)\n\u001b[0m\u001b[0;32m    142\u001b[0m \u001b[1;33m\u001b[0m\u001b[0m\n\u001b[0;32m    143\u001b[0m \u001b[1;33m\u001b[0m\u001b[0m\n",
      "\u001b[1;32m~\\Anaconda3\\lib\\site-packages\\torch\\_jit_internal.py\u001b[0m in \u001b[0;36mfn\u001b[1;34m(*args, **kwargs)\u001b[0m\n\u001b[0;32m    132\u001b[0m             \u001b[1;32mreturn\u001b[0m \u001b[0mif_true\u001b[0m\u001b[1;33m(\u001b[0m\u001b[1;33m*\u001b[0m\u001b[0margs\u001b[0m\u001b[1;33m,\u001b[0m \u001b[1;33m**\u001b[0m\u001b[0mkwargs\u001b[0m\u001b[1;33m)\u001b[0m\u001b[1;33m\u001b[0m\u001b[1;33m\u001b[0m\u001b[0m\n\u001b[0;32m    133\u001b[0m         \u001b[1;32melse\u001b[0m\u001b[1;33m:\u001b[0m\u001b[1;33m\u001b[0m\u001b[1;33m\u001b[0m\u001b[0m\n\u001b[1;32m--> 134\u001b[1;33m             \u001b[1;32mreturn\u001b[0m \u001b[0mif_false\u001b[0m\u001b[1;33m(\u001b[0m\u001b[1;33m*\u001b[0m\u001b[0margs\u001b[0m\u001b[1;33m,\u001b[0m \u001b[1;33m**\u001b[0m\u001b[0mkwargs\u001b[0m\u001b[1;33m)\u001b[0m\u001b[1;33m\u001b[0m\u001b[1;33m\u001b[0m\u001b[0m\n\u001b[0m\u001b[0;32m    135\u001b[0m \u001b[1;33m\u001b[0m\u001b[0m\n\u001b[0;32m    136\u001b[0m     \u001b[1;32mif\u001b[0m \u001b[0mif_true\u001b[0m\u001b[1;33m.\u001b[0m\u001b[0m__doc__\u001b[0m \u001b[1;32mis\u001b[0m \u001b[1;32mNone\u001b[0m \u001b[1;32mand\u001b[0m \u001b[0mif_false\u001b[0m\u001b[1;33m.\u001b[0m\u001b[0m__doc__\u001b[0m \u001b[1;32mis\u001b[0m \u001b[1;32mnot\u001b[0m \u001b[1;32mNone\u001b[0m\u001b[1;33m:\u001b[0m\u001b[1;33m\u001b[0m\u001b[1;33m\u001b[0m\u001b[0m\n",
      "\u001b[1;32m~\\Anaconda3\\lib\\site-packages\\torch\\nn\\functional.py\u001b[0m in \u001b[0;36m_max_pool2d\u001b[1;34m(input, kernel_size, stride, padding, dilation, ceil_mode, return_indices)\u001b[0m\n\u001b[0;32m    485\u001b[0m         \u001b[0mstride\u001b[0m \u001b[1;33m=\u001b[0m \u001b[0mtorch\u001b[0m\u001b[1;33m.\u001b[0m\u001b[0mjit\u001b[0m\u001b[1;33m.\u001b[0m\u001b[0mannotate\u001b[0m\u001b[1;33m(\u001b[0m\u001b[0mList\u001b[0m\u001b[1;33m[\u001b[0m\u001b[0mint\u001b[0m\u001b[1;33m]\u001b[0m\u001b[1;33m,\u001b[0m \u001b[1;33m[\u001b[0m\u001b[1;33m]\u001b[0m\u001b[1;33m)\u001b[0m\u001b[1;33m\u001b[0m\u001b[1;33m\u001b[0m\u001b[0m\n\u001b[0;32m    486\u001b[0m     return torch.max_pool2d(\n\u001b[1;32m--> 487\u001b[1;33m         input, kernel_size, stride, padding, dilation, ceil_mode)\n\u001b[0m\u001b[0;32m    488\u001b[0m \u001b[1;33m\u001b[0m\u001b[0m\n\u001b[0;32m    489\u001b[0m max_pool2d = boolean_dispatch(\n",
      "\u001b[1;31mRuntimeError\u001b[0m: Given input size: (256x2x2). Calculated output size: (256x0x0). Output size is too small"
     ]
    }
   ],
   "source": [
    "# Testando a acurácia da rede para o conjunto de validação\n",
    "correct = 0\n",
    "total = 0\n",
    "\n",
    "with torch.no_grad():\n",
    "    for data, target in valid:\n",
    "        target = target.type(torch.LongTensor)\n",
    "        images, target = data.to(DEVICE), target.to(DEVICE)\n",
    "        outputs = alexnet(images)\n",
    "        _, predicted = torch.max(outputs.data, 1)\n",
    "        total += target.size(0)\n",
    "        correct += (predicted == target).sum().item() \n",
    "        \n",
    "alexnet_valid_acc = 100 * correct / total\n",
    "print('Acurácia da rede nas imagens de teste: %d %%' % alexnet_valid_acc)"
   ]
  },
  {
   "cell_type": "code",
   "execution_count": null,
   "metadata": {},
   "outputs": [],
   "source": [
    "# Testando a acurácia da rede em todo o conjunto de dados\n",
    "correct = 0\n",
    "total = 0\n",
    "\n",
    "with torch.no_grad():\n",
    "    for data, target in test:\n",
    "        target = target.type(torch.LongTensor)\n",
    "        images, target = data.to(DEVICE), target.to(DEVICE)\n",
    "        outputs = alexnet(images)\n",
    "        _, predicted = torch.max(outputs.data, 1)\n",
    "        total += target.size(0)\n",
    "        correct += (predicted == target).sum().item()\n",
    "        \n",
    "alexnet_test_acc = 100 * correct / total\n",
    "print('Acurácia da rede nas imagens de teste: %d %%' % alexnet_test_acc)"
   ]
  },
  {
   "cell_type": "code",
   "execution_count": null,
   "metadata": {},
   "outputs": [],
   "source": [
    "# Avaliando a acurácia em cada classe\n",
    "class_correct = list(0. for i in range(49))\n",
    "class_total = list(0. for i in range(49))\n",
    "\n",
    "with torch.no_grad():\n",
    "    for data, target in test:\n",
    "        target = target.type(torch.LongTensor)\n",
    "        images, labels = data.to(DEVICE), target.to(DEVICE)\n",
    "        outputs = alexnet(images)\n",
    "        _, predicted = torch.max(outputs, 1)\n",
    "        c = (predicted == target).squeeze()\n",
    "        for i in range(3):\n",
    "            label = target[i]\n",
    "            class_correct[label] += c[i].item()\n",
    "            class_total[label] += 1\n",
    "\n",
    "alexnet_class_acc = []            \n",
    "for i in range(10):\n",
    "    alexnet_class_acc.append(100 * class_correct[i] / class_total[i])\n",
    "print('Verificação de acurácia por classes terminada!')"
   ]
  },
  {
   "cell_type": "markdown",
   "metadata": {},
   "source": [
    "## Resultados e Comparação\n",
    "\n",
    "Apesar da semelhança, tanto de nome quanto de objetivos gerais, o Kuzushiji MNIST é mais desafiador que o MNIST tradicional. Não só por possuir quase cinco vezes mais classes, mas também pelo número de variações. Quanto mais usado o caracter é na escrita, mais diferente ele se torna e um único caractere pode ser escrito de múltiplas maneiras diferentes no Japonês pré-moderno.<br>\n",
    "O Hiragana foi e ainda é extremamente usado para acompanhar *kanji* em adjetivos e verbos ou substituí-los completamete como acontciam em obras cujas autoras eram mulheres, pois até certo ponto da história, as mulheres não eram ensinadas a escrever *kanji*.<br>\n",
    "Todos esses fatores comprovam a complexidade do Kuzushiji MNIST e leva à espera de resultados condizentes."
   ]
  },
  {
   "cell_type": "markdown",
   "metadata": {},
   "source": [
    "- Não foi  usado cross-validation neste experimento pois deixaria o processo das classificações ainda mais pesado e demorado."
   ]
  },
  {
   "cell_type": "markdown",
   "metadata": {},
   "source": [
    "### Acurácia de Treino"
   ]
  },
  {
   "cell_type": "code",
   "execution_count": 91,
   "metadata": {},
   "outputs": [
    {
     "data": {
      "image/png": "[encoded data removed]",
      "text/plain": [
       "<Figure size 432x288 with 1 Axes>"
      ]
     },
     "metadata": {
      "needs_background": "light"
     },
     "output_type": "display_data"
    }
   ],
   "source": [
    "plt.plot([i for i in range(1, EPOCHS+1)], lenet_train_acc, label = \"LeNet\")\n",
    "plt.plot([i for i in range(1, EPOCHS+1)], alexnet_train_acc, label = \"AlexNet\")\n",
    "plt.xlabel('Número de Épocas')\n",
    "plt.ylabel('Acurácia')\n",
    "plt.title('Comparação de Acurácia')\n",
    "plt.legend() \n",
    "plt.show()"
   ]
  },
  {
   "cell_type": "markdown",
   "metadata": {},
   "source": [
    "### Loss do treino"
   ]
  },
  {
   "cell_type": "code",
   "execution_count": 92,
   "metadata": {},
   "outputs": [],
   "source": [
    "grafx=[]\n",
    "for i in range((2*EPOCHS)+1):\n",
    "    if i == 0: \n",
    "        i+1\n",
    "    elif i % 2 == 0:\n",
    "        grafx.append(i)\n",
    "    else:\n",
    "        grafx.append(i/2)"
   ]
  },
  {
   "cell_type": "code",
   "execution_count": 87,
   "metadata": {},
   "outputs": [
    {
     "data": {
      "image/png": "[encoded data removed]",
      "text/plain": [
       "<Figure size 432x288 with 1 Axes>"
      ]
     },
     "metadata": {
      "needs_background": "light"
     },
     "output_type": "display_data"
    }
   ],
   "source": [
    "plt.plot(grafx, lenet_loss, label = \"LeNet\")\n",
    "plt.plot(grafx, alexnet_loss, label = \"AlexNet\")\n",
    "plt.xlabel('Número de Épocas')\n",
    "plt.ylabel('Loss')\n",
    "plt.title('Comparação de Loss')\n",
    "plt.legend() \n",
    "plt.show()"
   ]
  },
  {
   "cell_type": "markdown",
   "metadata": {},
   "source": [
    "### Comparação das Acurácias\n",
    "\n",
    "- Acurácia de Validação\n",
    "\n",
    "| Rede | MNIST | KMNIST |\n",
    "|---|---|---|\n",
    "| AlexNet | 0% | 0% |\n",
    "| LeNet | 0% | 0% |"
   ]
  },
  {
   "cell_type": "markdown",
   "metadata": {},
   "source": [
    "- Acurácia de Teste\n",
    "\n",
    "| Rede | MNIST | KMNIST |\n",
    "|---|---|---|\n",
    "| AlexNet | 0% | 0% |\n",
    "| LeNet | 0% | 0% |"
   ]
  },
  {
   "cell_type": "markdown",
   "metadata": {},
   "source": [
    "- Acurácia por classe para as 10 primeiras classes"
   ]
  },
  {
   "cell_type": "code",
   "execution_count": 26,
   "metadata": {},
   "outputs": [
    {
     "data": {
      "text/html": [
       "<div>\n",
       "<style scoped>\n",
       "    .dataframe tbody tr th:only-of-type {\n",
       "        vertical-align: middle;\n",
       "    }\n",
       "\n",
       "    .dataframe tbody tr th {\n",
       "        vertical-align: top;\n",
       "    }\n",
       "\n",
       "    .dataframe thead th {\n",
       "        text-align: right;\n",
       "    }\n",
       "</style>\n",
       "<table border=\"1\" class=\"dataframe\">\n",
       "  <thead>\n",
       "    <tr style=\"text-align: right;\">\n",
       "      <th></th>\n",
       "      <th>Classes</th>\n",
       "      <th>LeNet</th>\n",
       "    </tr>\n",
       "  </thead>\n",
       "  <tbody>\n",
       "    <tr>\n",
       "      <th>0</th>\n",
       "      <td>あ</td>\n",
       "      <td>89.47</td>\n",
       "    </tr>\n",
       "    <tr>\n",
       "      <th>1</th>\n",
       "      <td>い</td>\n",
       "      <td>94.12</td>\n",
       "    </tr>\n",
       "    <tr>\n",
       "      <th>2</th>\n",
       "      <td>う</td>\n",
       "      <td>91.6</td>\n",
       "    </tr>\n",
       "    <tr>\n",
       "      <th>3</th>\n",
       "      <td>え</td>\n",
       "      <td>63.64</td>\n",
       "    </tr>\n",
       "    <tr>\n",
       "      <th>4</th>\n",
       "      <td>お</td>\n",
       "      <td>93.23</td>\n",
       "    </tr>\n",
       "    <tr>\n",
       "      <th>5</th>\n",
       "      <td>か</td>\n",
       "      <td>66.3</td>\n",
       "    </tr>\n",
       "    <tr>\n",
       "      <th>6</th>\n",
       "      <td>き</td>\n",
       "      <td>83.58</td>\n",
       "    </tr>\n",
       "    <tr>\n",
       "      <th>7</th>\n",
       "      <td>く</td>\n",
       "      <td>82.92</td>\n",
       "    </tr>\n",
       "    <tr>\n",
       "      <th>8</th>\n",
       "      <td>け</td>\n",
       "      <td>69.53</td>\n",
       "    </tr>\n",
       "    <tr>\n",
       "      <th>9</th>\n",
       "      <td>こ</td>\n",
       "      <td>91.35</td>\n",
       "    </tr>\n",
       "  </tbody>\n",
       "</table>\n",
       "</div>"
      ],
      "text/plain": [
       "  Classes  LeNet\n",
       "0       あ  89.47\n",
       "1       い  94.12\n",
       "2       う   91.6\n",
       "3       え  63.64\n",
       "4       お  93.23\n",
       "5       か   66.3\n",
       "6       き  83.58\n",
       "7       く  82.92\n",
       "8       け  69.53\n",
       "9       こ  91.35"
      ]
     },
     "execution_count": 26,
     "metadata": {},
     "output_type": "execute_result"
    }
   ],
   "source": [
    "table_val = []\n",
    "for cont in range(10):\n",
    "    table_val.append([classes[cont], round(lenet_class_acc[cont], 2), round(alexnet_class_acc[cont], 2)])\n",
    "\n",
    "acc_df = pd.DataFrame(np.array(table_val), columns=['Classes', 'LeNet', 'AlexNet'])\n",
    "acc_df"
   ]
  },
  {
   "cell_type": "markdown",
   "metadata": {},
   "source": [
    "## Conclusão\n",
    "\n"
   ]
  },
  {
   "cell_type": "markdown",
   "metadata": {},
   "source": [
    "## Referências\n",
    "\n",
    "- T. Clanuwat, A. Kitamoto, K. Yamamoto, M. Bober-Irizar, A. Lamb and D. Ha. **Deep Learning for Classical Japanese Literature**. 32nd Conference on Neural Information Processing Systems, Montreal, Canadá, p. 1-5, dec. 2018. Disponível em: https://arxiv.org/pdf/1812.01718.pdf\n",
    "\n",
    "- T. Clanuwat, A. Lamb and A. Kitamoto. **KuroNet: Pre-Modern Japanese Kuzushiji Character Recognition with Deep Learning**. p.1-5. Disponível em: https://arxiv.org/pdf/1910.09433.pdf\n",
    "\n",
    "- anokas.**Kuzushiji-MNIST: Classify handwritten characters in ancient Japanese manuscripts**. Kaggle, CC BY-SA 4.0, 2018. Disponível em: https://www.kaggle.com/anokas/kuzushiji\n",
    "\n",
    "- Tiiktak.**Fashion MNIST with AlexNet in Pytorch(92% accuracy**. Kaggle, Mar. 2020. Disponível em: https://www.kaggle.com/tiiktak/fashion-mnist-with-alexnet-in-pytorch-92-accuracy\n",
    "\n",
    "- A. Krizhevsky, I. Sutskever and G.E. Hinton.**ImageNet Classification with Deep Convolutional Neural Networks**. p. 5, 2012. Disponível em: https://papers.nips.cc/paper/4824-imagenet-classification-with-deep-convolutional-neural-networks.pdf\n",
    "\n",
    "- Y. LeCun, L. Bottou, Y Bengio and P. Haffner.**Gradient-Based Learning Applied to Document Recognition**.PROC OF THE IEEE, Nov. 1998. Disponível em: http://yann.lecun.com/exdb/publis/pdf/lecun-98.pdf\n"
   ]
  }
 ],
 "metadata": {
  "kernelspec": {
   "display_name": "Python 3",
   "language": "python",
   "name": "python3"
  },
  "language_info": {
   "codemirror_mode": {
    "name": "ipython",
    "version": 3
   },
   "file_extension": ".py",
   "mimetype": "text/x-python",
   "name": "python",
   "nbconvert_exporter": "python",
   "pygments_lexer": "ipython3",
   "version": "3.7.3"
  }
 },
 "nbformat": 4,
 "nbformat_minor": 2
}
