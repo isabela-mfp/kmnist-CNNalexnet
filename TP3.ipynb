{
  "nbformat": 4,
  "nbformat_minor": 0,
  "metadata": {
    "kernelspec": {
      "display_name": "Python 3",
      "language": "python",
      "name": "python3"
    },
    "language_info": {
      "codemirror_mode": {
        "name": "ipython",
        "version": 3
      },
      "file_extension": ".py",
      "mimetype": "text/x-python",
      "name": "python",
      "nbconvert_exporter": "python",
      "pygments_lexer": "ipython3",
      "version": "3.7.3"
    },
    "colab": {
      "provenance": [],
      "collapsed_sections": []
    },
    "accelerator": "GPU",
    "widgets": {
      "application/vnd.jupyter.widget-state+json": {
        "e0c8b0526f714111a9720a5f09bf62d7": {
          "model_module": "@jupyter-widgets/controls",
          "model_name": "HBoxModel",
          "state": {
            "_view_name": "HBoxView",
            "_dom_classes": [],
            "_model_name": "HBoxModel",
            "_view_module": "@jupyter-widgets/controls",
            "_model_module_version": "1.5.0",
            "_view_count": null,
            "_view_module_version": "1.5.0",
            "box_style": "",
            "layout": "IPY_MODEL_4f808d4fc8984eb4913080af2eaad85f",
            "_model_module": "@jupyter-widgets/controls",
            "children": [
              "IPY_MODEL_8b8a6f866e8f4c7495f2621d41f070c3",
              "IPY_MODEL_73a707d5c853474abcc8ddd48751806a"
            ]
          },
          "model_module_version": "1.5.0"
        },
        "4f808d4fc8984eb4913080af2eaad85f": {
          "model_module": "@jupyter-widgets/base",
          "model_name": "LayoutModel",
          "state": {
            "_view_name": "LayoutView",
            "grid_template_rows": null,
            "right": null,
            "justify_content": null,
            "_view_module": "@jupyter-widgets/base",
            "overflow": null,
            "_model_module_version": "1.2.0",
            "_view_count": null,
            "flex_flow": null,
            "width": null,
            "min_width": null,
            "border": null,
            "align_items": null,
            "bottom": null,
            "_model_module": "@jupyter-widgets/base",
            "top": null,
            "grid_column": null,
            "overflow_y": null,
            "overflow_x": null,
            "grid_auto_flow": null,
            "grid_area": null,
            "grid_template_columns": null,
            "flex": null,
            "_model_name": "LayoutModel",
            "justify_items": null,
            "grid_row": null,
            "max_height": null,
            "align_content": null,
            "visibility": null,
            "align_self": null,
            "height": null,
            "min_height": null,
            "padding": null,
            "grid_auto_rows": null,
            "grid_gap": null,
            "max_width": null,
            "order": null,
            "_view_module_version": "1.2.0",
            "grid_template_areas": null,
            "object_position": null,
            "object_fit": null,
            "grid_auto_columns": null,
            "margin": null,
            "display": null,
            "left": null
          },
          "model_module_version": "1.2.0"
        },
        "8b8a6f866e8f4c7495f2621d41f070c3": {
          "model_module": "@jupyter-widgets/controls",
          "model_name": "FloatProgressModel",
          "state": {
            "_view_name": "ProgressView",
            "style": "IPY_MODEL_932bc8cf42fb48d3b2f81ce9389239fc",
            "_dom_classes": [],
            "description": "100%",
            "_model_name": "FloatProgressModel",
            "bar_style": "success",
            "max": 5,
            "_view_module": "@jupyter-widgets/controls",
            "_model_module_version": "1.5.0",
            "value": 5,
            "_view_count": null,
            "_view_module_version": "1.5.0",
            "orientation": "horizontal",
            "min": 0,
            "description_tooltip": null,
            "_model_module": "@jupyter-widgets/controls",
            "layout": "IPY_MODEL_32cdba034d544394a4b6fc2d1d47b60d"
          },
          "model_module_version": "1.5.0"
        },
        "73a707d5c853474abcc8ddd48751806a": {
          "model_module": "@jupyter-widgets/controls",
          "model_name": "HTMLModel",
          "state": {
            "_view_name": "HTMLView",
            "style": "IPY_MODEL_6f22aaf2b91a456ba95fe21167beb965",
            "_dom_classes": [],
            "description": "",
            "_model_name": "HTMLModel",
            "placeholder": "​",
            "_view_module": "@jupyter-widgets/controls",
            "_model_module_version": "1.5.0",
            "value": " 5/5 [00:00&lt;00:00,  7.03it/s]",
            "_view_count": null,
            "_view_module_version": "1.5.0",
            "description_tooltip": null,
            "_model_module": "@jupyter-widgets/controls",
            "layout": "IPY_MODEL_e653af279c894e02a5ef2fcd3c136fe7"
          },
          "model_module_version": "1.5.0"
        },
        "932bc8cf42fb48d3b2f81ce9389239fc": {
          "model_module": "@jupyter-widgets/controls",
          "model_name": "ProgressStyleModel",
          "state": {
            "_view_name": "StyleView",
            "_model_name": "ProgressStyleModel",
            "description_width": "initial",
            "_view_module": "@jupyter-widgets/base",
            "_model_module_version": "1.5.0",
            "_view_count": null,
            "_view_module_version": "1.2.0",
            "bar_color": null,
            "_model_module": "@jupyter-widgets/controls"
          },
          "model_module_version": "1.5.0"
        },
        "32cdba034d544394a4b6fc2d1d47b60d": {
          "model_module": "@jupyter-widgets/base",
          "model_name": "LayoutModel",
          "state": {
            "_view_name": "LayoutView",
            "grid_template_rows": null,
            "right": null,
            "justify_content": null,
            "_view_module": "@jupyter-widgets/base",
            "overflow": null,
            "_model_module_version": "1.2.0",
            "_view_count": null,
            "flex_flow": null,
            "width": null,
            "min_width": null,
            "border": null,
            "align_items": null,
            "bottom": null,
            "_model_module": "@jupyter-widgets/base",
            "top": null,
            "grid_column": null,
            "overflow_y": null,
            "overflow_x": null,
            "grid_auto_flow": null,
            "grid_area": null,
            "grid_template_columns": null,
            "flex": null,
            "_model_name": "LayoutModel",
            "justify_items": null,
            "grid_row": null,
            "max_height": null,
            "align_content": null,
            "visibility": null,
            "align_self": null,
            "height": null,
            "min_height": null,
            "padding": null,
            "grid_auto_rows": null,
            "grid_gap": null,
            "max_width": null,
            "order": null,
            "_view_module_version": "1.2.0",
            "grid_template_areas": null,
            "object_position": null,
            "object_fit": null,
            "grid_auto_columns": null,
            "margin": null,
            "display": null,
            "left": null
          },
          "model_module_version": "1.2.0"
        },
        "6f22aaf2b91a456ba95fe21167beb965": {
          "model_module": "@jupyter-widgets/controls",
          "model_name": "DescriptionStyleModel",
          "state": {
            "_view_name": "StyleView",
            "_model_name": "DescriptionStyleModel",
            "description_width": "",
            "_view_module": "@jupyter-widgets/base",
            "_model_module_version": "1.5.0",
            "_view_count": null,
            "_view_module_version": "1.2.0",
            "_model_module": "@jupyter-widgets/controls"
          },
          "model_module_version": "1.5.0"
        },
        "e653af279c894e02a5ef2fcd3c136fe7": {
          "model_module": "@jupyter-widgets/base",
          "model_name": "LayoutModel",
          "state": {
            "_view_name": "LayoutView",
            "grid_template_rows": null,
            "right": null,
            "justify_content": null,
            "_view_module": "@jupyter-widgets/base",
            "overflow": null,
            "_model_module_version": "1.2.0",
            "_view_count": null,
            "flex_flow": null,
            "width": null,
            "min_width": null,
            "border": null,
            "align_items": null,
            "bottom": null,
            "_model_module": "@jupyter-widgets/base",
            "top": null,
            "grid_column": null,
            "overflow_y": null,
            "overflow_x": null,
            "grid_auto_flow": null,
            "grid_area": null,
            "grid_template_columns": null,
            "flex": null,
            "_model_name": "LayoutModel",
            "justify_items": null,
            "grid_row": null,
            "max_height": null,
            "align_content": null,
            "visibility": null,
            "align_self": null,
            "height": null,
            "min_height": null,
            "padding": null,
            "grid_auto_rows": null,
            "grid_gap": null,
            "max_width": null,
            "order": null,
            "_view_module_version": "1.2.0",
            "grid_template_areas": null,
            "object_position": null,
            "object_fit": null,
            "grid_auto_columns": null,
            "margin": null,
            "display": null,
            "left": null
          },
          "model_module_version": "1.2.0"
        }
      }
    }
  },
  "cells": [
    {
      "cell_type": "markdown",
      "metadata": {
        "id": "cn9RupUGluIg"
      },
      "source": [
        "## Trabalho Prático 03 - Aprendizado de Máquina\n",
        "\n",
        "- Aluna: Isabela Ferreira<br>\n"
      ]
    },
    {
      "cell_type": "code",
      "metadata": {
        "id": "iahjVTZfluIh"
      },
      "source": [
        "#importando bibliotecas e funções necessárias\n",
        "import os\n",
        "os.environ['CUDA_LAUNCH_BLOCKING'] = \"1\"\n",
        "import torch\n",
        "import torchvision\n",
        "import numpy as np \n",
        "import pandas as pd\n",
        "import torch.nn as nn\n",
        "from PIL import Image\n",
        "from torch import cuda\n",
        "import torch.optim as optim\n",
        "from google.colab import drive\n",
        "from tqdm import tqdm_notebook\n",
        "import matplotlib.pyplot as plt\n",
        "import torch.nn.functional as F\n",
        "import torchvision.transforms as transforms\n",
        "from sklearn.model_selection import train_test_split\n",
        "from torch.utils.data import DataLoader, TensorDataset, Dataset"
      ],
      "execution_count": null,
      "outputs": []
    },
    {
      "cell_type": "code",
      "metadata": {
        "id": "fkUKgcZWluIk",
        "outputId": "acc31b19-a85d-4cb8-de61-14733b40b191",
        "colab": {
          "base_uri": "https://localhost:8080/"
        }
      },
      "source": [
        "#Setando variáveis globais\n",
        "EPOCHS = 10\n",
        "BATCH_SIZE = 4\n",
        "\n",
        "drive.mount('/content/gdrive/')\n",
        "data_dir = '/content/gdrive/My Drive/kmnist/'\n",
        "\n",
        "dev = (\"cuda:0\" if cuda.is_available() else \"cpu\")\n",
        "DEVICE = torch.device(dev)\n",
        "print(torch.__version__)\n",
        "print(DEVICE)"
      ],
      "execution_count": null,
      "outputs": [
        {
          "output_type": "stream",
          "text": [
            "Mounted at /content/gdrive/\n",
            "1.6.0+cu101\n",
            "cuda:0\n"
          ],
          "name": "stdout"
        }
      ]
    },
    {
      "cell_type": "markdown",
      "metadata": {
        "id": "2EkQKk8tluIo"
      },
      "source": [
        "## Dataset: Kuzushiji-MNIST\n",
        "\n",
        "Kuzushiji foi um estilo de escrita cursiva usado por mais de mil anos no Japão desde o Século VIII, quando os caracteres chineses entraram no país. Deste período, foram preservados mais de três mil livros sobre variados assuntos, mas graças à modernização da Língua Japonesa em 1868 devido à restauração Meiji,  as escolas passaram a não incluir escrita Kuzushiji na grade oficial. Logo, apesar de ter sido usado por mais de mil anos, muitos japoneses nativos não conseguem ler livros escritos ou publicados há mais de 150 anos. Como resultado, milhares de textos em Kuzushiji foram digitalizados, mas nunca transcritos já que poucos especialistas podem lê-los.<br>\n",
        "O objetivo é utilizar o dataset para juntar Aprendizado de Máquina e Literatura Japonesa em prol de resgatar o conhecimento daquele período.\n",
        "\n",
        "Para este experimento foram usados apenas os dados do Hentaigana (tradução literal para “Variações de Caractere”), a escrita cursiva referente ao silabário Japonês Hiragana.\n",
        "\n",
        "\"KMNIST Dataset\" (created by CODH), adapted from \"Kuzushiji Dataset\" (created by NIJL and others), doi:10.20676/00000341"
      ]
    },
    {
      "cell_type": "markdown",
      "metadata": {
        "id": "dEUieuV-luIp"
      },
      "source": [
        "### Leitura das entradas\n",
        "\n",
        "A primeira entrada é um arquivo csv com o mapeamento das classes do dataset, que consistem em todos os kanas disponíveis no silabário Hiragana da língua Japonesa, excluindo os kanas modificados por sinais diacríticos (Dakuten e Handakuten)."
      ]
    },
    {
      "cell_type": "code",
      "metadata": {
        "id": "zrcpRubLluIp",
        "outputId": "8b83fd76-0403-4d25-819c-da23bb744350",
        "colab": {
          "base_uri": "https://localhost:8080/",
          "height": 212
        }
      },
      "source": [
        "#Lendo o classmap para definir as classes\n",
        "df = pd.read_csv(data_dir + 'k49_classmap.csv', encoding = 'utf-8')\n",
        "print(df.shape)\n",
        "classes = df['char'].values\n",
        "df.tail()"
      ],
      "execution_count": null,
      "outputs": [
        {
          "output_type": "stream",
          "text": [
            "(49, 3)\n"
          ],
          "name": "stdout"
        },
        {
          "output_type": "execute_result",
          "data": {
            "text/html": [
              "<div>\n",
              "<style scoped>\n",
              "    .dataframe tbody tr th:only-of-type {\n",
              "        vertical-align: middle;\n",
              "    }\n",
              "\n",
              "    .dataframe tbody tr th {\n",
              "        vertical-align: top;\n",
              "    }\n",
              "\n",
              "    .dataframe thead th {\n",
              "        text-align: right;\n",
              "    }\n",
              "</style>\n",
              "<table border=\"1\" class=\"dataframe\">\n",
              "  <thead>\n",
              "    <tr style=\"text-align: right;\">\n",
              "      <th></th>\n",
              "      <th>index</th>\n",
              "      <th>codepoint</th>\n",
              "      <th>char</th>\n",
              "    </tr>\n",
              "  </thead>\n",
              "  <tbody>\n",
              "    <tr>\n",
              "      <th>44</th>\n",
              "      <td>44</td>\n",
              "      <td>U+3090</td>\n",
              "      <td>ゐ</td>\n",
              "    </tr>\n",
              "    <tr>\n",
              "      <th>45</th>\n",
              "      <td>45</td>\n",
              "      <td>U+3091</td>\n",
              "      <td>ゑ</td>\n",
              "    </tr>\n",
              "    <tr>\n",
              "      <th>46</th>\n",
              "      <td>46</td>\n",
              "      <td>U+3092</td>\n",
              "      <td>を</td>\n",
              "    </tr>\n",
              "    <tr>\n",
              "      <th>47</th>\n",
              "      <td>47</td>\n",
              "      <td>U+3093</td>\n",
              "      <td>ん</td>\n",
              "    </tr>\n",
              "    <tr>\n",
              "      <th>48</th>\n",
              "      <td>48</td>\n",
              "      <td>U+309D</td>\n",
              "      <td>ゝ</td>\n",
              "    </tr>\n",
              "  </tbody>\n",
              "</table>\n",
              "</div>"
            ],
            "text/plain": [
              "    index codepoint char\n",
              "44     44    U+3090    ゐ\n",
              "45     45    U+3091    ゑ\n",
              "46     46    U+3092    を\n",
              "47     47    U+3093    ん\n",
              "48     48    U+309D    ゝ"
            ]
          },
          "metadata": {
            "tags": []
          },
          "execution_count": 3
        }
      ]
    },
    {
      "cell_type": "code",
      "metadata": {
        "id": "5ro4vtSPluIs",
        "outputId": "61e27055-a12b-4d91-ef89-53770202719b",
        "colab": {
          "base_uri": "https://localhost:8080/"
        }
      },
      "source": [
        "# Definindo o conjunto de treino\n",
        "X_train = np.load(data_dir +'k49-train-imgs.npz')['arr_0']\n",
        "y_train = np.load(data_dir +'k49-train-labels.npz')['arr_0']\n",
        "\n",
        "# Definindo o conjunto de teste\n",
        "X_test = np.load(data_dir +'k49-test-imgs.npz')['arr_0']\n",
        "y_test = np.load(data_dir +'k49-test-labels.npz')['arr_0']\n",
        "\n",
        "print(\"X train shape:\", X_train.shape)\n",
        "print(\"X test shape:\", X_test.shape)\n",
        "print(\"y train shape:\", y_train.shape)\n",
        "print(\"y test shape:\", y_test.shape)"
      ],
      "execution_count": null,
      "outputs": [
        {
          "output_type": "stream",
          "text": [
            "X train shape: (232365, 28, 28)\n",
            "X test shape: (38547, 28, 28)\n",
            "y train shape: (232365,)\n",
            "y test shape: (38547,)\n"
          ],
          "name": "stdout"
        }
      ]
    },
    {
      "cell_type": "code",
      "metadata": {
        "id": "I-HDCvtrluIw",
        "outputId": "4168c6b6-3376-4759-af4d-d743056467fa",
        "colab": {
          "base_uri": "https://localhost:8080/",
          "height": 482,
          "referenced_widgets": [
            "e0c8b0526f714111a9720a5f09bf62d7",
            "4f808d4fc8984eb4913080af2eaad85f",
            "8b8a6f866e8f4c7495f2621d41f070c3",
            "73a707d5c853474abcc8ddd48751806a",
            "932bc8cf42fb48d3b2f81ce9389239fc",
            "32cdba034d544394a4b6fc2d1d47b60d",
            "6f22aaf2b91a456ba95fe21167beb965",
            "e653af279c894e02a5ef2fcd3c136fe7"
          ]
        }
      },
      "source": [
        "#Plotando as imagens das vogais (a, i, u, e, o)\n",
        "def plt_img(img, lb, classes):\n",
        "    plt.figure(figsize=(12,12))\n",
        "    print(classes[0], classes[1], classes[2], classes[3], classes[4])\n",
        "    for i in tqdm_notebook(range(5)):\n",
        "        imgs = img[np.where(lb == i)]\n",
        "        lbls = lb[np.where(lb == i)]\n",
        "        for j in range(10):\n",
        "            plt.subplot(10,10,i*10+j+1)\n",
        "            plt.xticks([])\n",
        "            plt.yticks([])\n",
        "            plt.grid(False)\n",
        "            plt.imshow(imgs[j], cmap=plt.cm.binary)\n",
        "            plt.xlabel(lbls[j])\n",
        "\n",
        "plt_img(X_train, y_train, classes)"
      ],
      "execution_count": null,
      "outputs": [
        {
          "output_type": "stream",
          "text": [
            "あ い う え お\n"
          ],
          "name": "stdout"
        },
        {
          "output_type": "stream",
          "text": [
            "/usr/local/lib/python3.6/dist-packages/ipykernel_launcher.py:5: TqdmDeprecationWarning: This function will be removed in tqdm==5.0.0\n",
            "Please use `tqdm.notebook.tqdm` instead of `tqdm.tqdm_notebook`\n",
            "  \"\"\"\n"
          ],
          "name": "stderr"
        },
        {
          "output_type": "display_data",
          "data": {
            "application/vnd.jupyter.widget-view+json": {
              "model_id": "e0c8b0526f714111a9720a5f09bf62d7",
              "version_minor": 0,
              "version_major": 2
            },
            "text/plain": [
              "HBox(children=(FloatProgress(value=0.0, max=5.0), HTML(value='')))"
            ]
          },
          "metadata": {
            "tags": []
          }
        },
        {
          "output_type": "stream",
          "text": [
            "\n"
          ],
          "name": "stdout"
        },
        {
          "output_type": "display_data",
          "data": {
            "image/png": "[encoded data removed]",
            "text/plain": [
              "<Figure size 864x864 with 50 Axes>"
            ]
          },
          "metadata": {
            "tags": []
          }
        }
      ]
    },
    {
      "cell_type": "markdown",
      "metadata": {
        "id": "PW36PpY6luI0"
      },
      "source": [
        "- Separando os dados de treino entre treino e validação"
      ]
    },
    {
      "cell_type": "code",
      "metadata": {
        "id": "TPlHCmfhluI1"
      },
      "source": [
        "X_train, X_valid, y_train, y_valid = train_test_split(X_train, y_train, test_size=0.10, random_state=42)"
      ],
      "execution_count": null,
      "outputs": []
    },
    {
      "cell_type": "code",
      "metadata": {
        "id": "zW6o8jUGluI7"
      },
      "source": [
        "#Criando a classe do Dataset\n",
        "class Kmnist(Dataset):\n",
        "    def __init__(self, datax, datay, transform=None):        \n",
        "        self.x_kmnist = list(datax)\n",
        "        self.y_kmnist = list(datay)\n",
        "        self.transform = transform\n",
        "        \n",
        "        self.labels = np.asarray(self.y_kmnist)\n",
        "        self.images = np.asarray(self.x_kmnist).reshape(-1, 28, 28).astype('float32')\n",
        "        \n",
        "    def __len__(self):\n",
        "        return len(self.images)\n",
        "    \n",
        "    def __getitem__(self, idx):\n",
        "        label = self.labels[idx]\n",
        "        image = self.images[idx]      \n",
        "        \n",
        "        if self.transform is not None:\n",
        "            pil_image = Image.fromarray(np.uint8(image)) \n",
        "            image = self.transform(pil_image)\n",
        "            \n",
        "        return image, label"
      ],
      "execution_count": null,
      "outputs": []
    },
    {
      "cell_type": "markdown",
      "metadata": {
        "id": "COut6q_bluI_"
      },
      "source": [
        "## Connected Neural Network: LeNet-5\n",
        "\n",
        "LeNet foi uma das primeiras Redes Neurais Convolucionais, criada originalmente para o dataset MNIST. Sua arquitetura consiste em dois grupos de layers de pooling médio e convolucional, um layer de achatamento convolucional, dois layers totalmente conectados e, por último, um classificador ReLU."
      ]
    },
    {
      "cell_type": "code",
      "metadata": {
        "id": "xUq9uvLKluI_"
      },
      "source": [
        "LeTransform = transforms.Compose([\n",
        "    transforms.ToTensor()\n",
        "])\n",
        "\n",
        "lenet_train = DataLoader(Kmnist(X_train, y_train, transform=LeTransform), batch_size=BATCH_SIZE, shuffle=True)\n",
        "lenet_valid = DataLoader(Kmnist(X_valid, y_valid, transform=LeTransform), batch_size=BATCH_SIZE, shuffle=True)\n",
        "lenet_test = DataLoader(Kmnist(X_test, y_test, transform=LeTransform), batch_size=BATCH_SIZE, shuffle=True)"
      ],
      "execution_count": null,
      "outputs": []
    },
    {
      "cell_type": "markdown",
      "metadata": {
        "id": "neMHvY8CluJB"
      },
      "source": [
        "Arquitetura da LeNet:\n",
        "\n",
        "- Primeira layer convolucional: entrada de um canal para 6 feature maps e kernel 5x5\n",
        "- Segunda layer convlucional: entrada de 6 canais e saída de 32, kernel 5x5\n",
        "- Primeira layer fully-connected: ligando 32 feature maps a 120 unidades de saída\n",
        "- Segunda layer fully-connected: liga 120 entradas a 84 unidades de saída\n",
        "- Terceira layer fully-connected: liga 84 entradas a 10 unidades de saída\n",
        "\n",
        "Aplicação:\n",
        "\n",
        "- Aplica-se primeira layer convolucional seguida de ReLU e maxpooling\n",
        "- Aplica-se segunda layer convolucional seguida de ReLU e maxpooling\n",
        "- Transforma o dado da imagem em um único vetor\n",
        "- Aplica a primeira layer fully-connected seguida de ReLU\n",
        "- Aplica a segunda layer fully-connected seguida de ReLU\n",
        "- Aplica a terceira layer fully-connected"
      ]
    },
    {
      "cell_type": "code",
      "metadata": {
        "id": "34aE8QNfluJC"
      },
      "source": [
        "class leNet(nn.Module):\n",
        "    def __init__(self):\n",
        "        super(leNet, self).__init__()\n",
        "        self.cv1 = nn.Conv2d(1, 6, 5, 1,  2)\n",
        "        self.cv2 = nn.Conv2d(6, 16, 5)\n",
        "        self.fc1 = nn.Linear(16*5*5, 120)\n",
        "        self.fc2 = nn.Linear(120, 84)\n",
        "        self.fc3 = nn.Linear(84, 49)\n",
        "        \n",
        "    def forward(self, x):\n",
        "        x = F.max_pool2d(F.relu(self.cv1(x)), 2)\n",
        "        x = F.max_pool2d(F.relu(self.cv2(x)), 2)\n",
        "        x = x.view(-1, 16*5*5)\n",
        "        x = F.relu(self.fc1(x))\n",
        "        x = F.relu(self.fc2(x))\n",
        "        x = self.fc3(x)\n",
        "        return x\n",
        "\n",
        "lenet = leNet().to(DEVICE)"
      ],
      "execution_count": null,
      "outputs": []
    },
    {
      "cell_type": "markdown",
      "metadata": {
        "id": "WJDYgGd9luJF"
      },
      "source": [
        "- Para a escolha dos parâmetros, utilizamos uma taxa aprendizado de 0.001"
      ]
    },
    {
      "cell_type": "code",
      "metadata": {
        "id": "uOKj8QTMluJF"
      },
      "source": [
        "criterion = nn.CrossEntropyLoss()\n",
        "optimizer_lenet = optim.SGD(lenet.parameters(), lr = 0.001, momentum = 0.9)"
      ],
      "execution_count": null,
      "outputs": []
    },
    {
      "cell_type": "code",
      "metadata": {
        "scrolled": true,
        "id": "XCqSjQ-fluJH",
        "outputId": "e856ce54-95ea-46a5-9a3f-5e1380febe3f",
        "colab": {
          "base_uri": "https://localhost:8080/"
        }
      },
      "source": [
        "# Iterando sobre os dados de treino\n",
        "n = ((X_train.shape[0]) // BATCH_SIZE)\n",
        "lenet_loss = []\n",
        "lenet_train_acc = []\n",
        "\n",
        "for epoch in range(EPOCHS):\n",
        "    running_loss = 0.0\n",
        "    correct = 0\n",
        "    total = 0\n",
        "    for batch_idx, (data, target) in enumerate(lenet_train):\n",
        "        target = target.type(torch.LongTensor)\n",
        "        data, target = data.to(DEVICE), target.to(DEVICE)\n",
        "\n",
        "        optimizer_lenet.zero_grad()\n",
        "\n",
        "        outputs = lenet(data)\n",
        "        loss = criterion(outputs, target)\n",
        "        loss.backward()\n",
        "        optimizer_lenet.step()\n",
        "        \n",
        "        _, predicted = torch.max(outputs.data, 1)\n",
        "        total += target.size(0)\n",
        "        correct += (predicted == target).sum().item()\n",
        "\n",
        "        running_loss += loss.item()\n",
        "        if (batch_idx == n/2) or (batch_idx == n-1):\n",
        "            print('[Epoch %2d] loss: %.3f' % (epoch + 1, running_loss/n))\n",
        "            lenet_loss.append(running_loss/n)\n",
        "            running_loss = 0.0\n",
        "            \n",
        "    lenet_train_acc.append(100 * correct / total)\n",
        "\n",
        "print('Finished Training LeNet')"
      ],
      "execution_count": null,
      "outputs": [
        {
          "output_type": "stream",
          "text": [
            "[Epoch  1] loss: 0.570\n",
            "[Epoch  1] loss: 0.212\n",
            "[Epoch  2] loss: 0.156\n",
            "[Epoch  2] loss: 0.138\n",
            "[Epoch  3] loss: 0.114\n",
            "[Epoch  3] loss: 0.113\n",
            "[Epoch  4] loss: 0.096\n",
            "[Epoch  4] loss: 0.099\n",
            "[Epoch  5] loss: 0.086\n",
            "[Epoch  5] loss: 0.089\n",
            "[Epoch  6] loss: 0.077\n",
            "[Epoch  6] loss: 0.083\n",
            "[Epoch  7] loss: 0.072\n",
            "[Epoch  7] loss: 0.078\n",
            "[Epoch  8] loss: 0.067\n",
            "[Epoch  8] loss: 0.074\n",
            "[Epoch  9] loss: 0.062\n",
            "[Epoch  9] loss: 0.071\n",
            "[Epoch 10] loss: 0.060\n",
            "[Epoch 10] loss: 0.067\n",
            "Finished Training LeNet\n"
          ],
          "name": "stdout"
        }
      ]
    },
    {
      "cell_type": "code",
      "metadata": {
        "id": "gE_J2sFmluJL"
      },
      "source": [
        "# Salvando o modelo treinado\n",
        "PATH = './kmnist_lenet.pth'\n",
        "torch.save(lenet.state_dict(), PATH)"
      ],
      "execution_count": null,
      "outputs": []
    },
    {
      "cell_type": "code",
      "metadata": {
        "id": "v5N3nanHgLWG",
        "outputId": "6a40d562-cf73-41d0-f1c4-5772003e6e51",
        "colab": {
          "base_uri": "https://localhost:8080/"
        }
      },
      "source": [
        "# Testando a acurácia da rede para o conjunto de validação\n",
        "correct = 0\n",
        "total = 0\n",
        "\n",
        "with torch.no_grad():\n",
        "    for data, target in lenet_valid:\n",
        "        target = target.type(torch.LongTensor)\n",
        "        images, target = data.to(DEVICE), target.to(DEVICE)\n",
        "        outputs = lenet(images)\n",
        "        _, predicted = torch.max(outputs.data, 1)\n",
        "        total += target.size(0)\n",
        "        correct += (predicted == target).sum().item()\n",
        "\n",
        "lenet_valid_acc = 100 * correct / total\n",
        "print('Acurácia da rede nas imagens de validação: %d %%' % lenet_valid_acc)"
      ],
      "execution_count": null,
      "outputs": [
        {
          "output_type": "stream",
          "text": [
            "Acurácia da rede nas imagens de validação: 94 %\n"
          ],
          "name": "stdout"
        }
      ]
    },
    {
      "cell_type": "code",
      "metadata": {
        "id": "pzIikXF9luJR",
        "outputId": "6cc6f324-c776-445f-ec1c-2e8cc99b8472",
        "colab": {
          "base_uri": "https://localhost:8080/"
        }
      },
      "source": [
        "# Testando a acurácia da rede em todo o conjunto de teste\n",
        "correct = 0\n",
        "total = 0\n",
        "\n",
        "with torch.no_grad():\n",
        "    for data, target in lenet_test:\n",
        "        target = target.type(torch.LongTensor)\n",
        "        images, target = data.to(DEVICE), target.to(DEVICE)\n",
        "        outputs = lenet(images)\n",
        "        _, predicted = torch.max(outputs.data, 1)\n",
        "        total += target.size(0)\n",
        "        correct += (predicted == target).sum().item()\n",
        "\n",
        "lenet_test_acc = 100 * correct / total\n",
        "print('Acurácia da rede nas imagens de teste: %d %%' % lenet_test_acc)"
      ],
      "execution_count": null,
      "outputs": [
        {
          "output_type": "stream",
          "text": [
            "Acurácia da rede nas imagens de teste: 90 %\n"
          ],
          "name": "stdout"
        }
      ]
    },
    {
      "cell_type": "code",
      "metadata": {
        "id": "Z_aTVSTuluJT",
        "outputId": "f25365d6-8341-4b11-c76d-47f55a989584",
        "colab": {
          "base_uri": "https://localhost:8080/"
        }
      },
      "source": [
        "# Avaliando a acurácia em cada classe\n",
        "class_correct = list(0. for i in range(49))\n",
        "class_total = list(0. for i in range(49))\n",
        "\n",
        "with torch.no_grad():\n",
        "    for data, target in lenet_test:\n",
        "        target = target.type(torch.LongTensor)\n",
        "        images, target = data.to(DEVICE), target.to(DEVICE)\n",
        "        outputs = lenet(images)\n",
        "        _, predicted = torch.max(outputs, 1)\n",
        "        c = (predicted == target).squeeze()\n",
        "        for i in range(3):\n",
        "            label = target[i]\n",
        "            class_correct[label] += c[i].item()\n",
        "            class_total[label] += 1\n",
        "\n",
        "lenet_class_acc = []\n",
        "for i in range(10):\n",
        "    lenet_class_acc.append(100 * class_correct[i] / class_total[i])\n",
        "print('Verificação de acurácia por classes terminada!')"
      ],
      "execution_count": null,
      "outputs": [
        {
          "output_type": "stream",
          "text": [
            "Verificação de acurácia por classes terminada!\n"
          ],
          "name": "stdout"
        }
      ]
    },
    {
      "cell_type": "markdown",
      "metadata": {
        "id": "uuj7ChZZluJW"
      },
      "source": [
        "## Connected Neural Network: AlexNet\n",
        "\n",
        "AlexNet é uma Rede Neural Convolucional criada por Alex Krizhevsky que ficou no Top-5 do Desafio de Reconhecimento de Imagens da ImageNet, em 2012.\n",
        "Sua arquitetura é formada por 5 layers convolucionais seguidas de 3 fully connected, além de usar ReLu como função de ativação.\n"
      ]
    },
    {
      "cell_type": "markdown",
      "metadata": {
        "id": "6eY9tmHGluJW"
      },
      "source": [
        "- Como a entrada do AlexNet recebe apenas imagens 227x227 e o KMINIST tem 28x28, será necessário redimensionar as imagens.\n",
        "- Como o *torchvision.transform.Resize* só aceita imagens PIL, elas são convertidas para este formato dentro da classe."
      ]
    },
    {
      "cell_type": "code",
      "metadata": {
        "id": "gb9Qnet9luJX"
      },
      "source": [
        "#Preparando os dados para o AlexNet\n",
        "AlexTransform = transforms.Compose([\n",
        "    transforms.Resize((227, 227)),\n",
        "    transforms.ToTensor(),\n",
        "    transforms.Normalize((0.1307,), (0.3081,))\n",
        "])\n",
        "\n",
        "train = DataLoader(Kmnist(X_train, y_train, transform=AlexTransform), batch_size=BATCH_SIZE, shuffle=True)\n",
        "valid = DataLoader(Kmnist(X_valid, y_valid, transform=AlexTransform), batch_size=BATCH_SIZE, shuffle=True)\n",
        "test = DataLoader(Kmnist(X_test, y_test, transform=AlexTransform), batch_size=BATCH_SIZE, shuffle=True)"
      ],
      "execution_count": null,
      "outputs": []
    },
    {
      "cell_type": "markdown",
      "metadata": {
        "id": "tHYLTVgTluJa"
      },
      "source": [
        "Arquitetura da AlexNet:\n",
        "\n",
        "- Primeira layer convolucional: entrada de 1 canal para 96 feature maps, kernel 11x11, stride=4 e padding=0\n",
        "- Segunda layer convlucional: entrada de 96 canais e saída de 256, kernel 5x5, stride=1 e padding=2\n",
        "- Terceira layer convlucional: entrada de 256 canais e saída de 384, kernel 3x3, stride=1 e padding=1\n",
        "- Quarta layer convlucional: entrada de 384 para 384, kernel 3x3, stride=1 e padding=1\n",
        "- Quinta layer convlucional: entrada de 384 canais e saída de 256, kernel 3x3, stride=1 e padding=1\n",
        "- Primeira layer fully-connected: ligando os feature maps de entrada a 4096 unidades de saída\n",
        "- Segunda layer fully-connected: liga 4096 entradas a 4096 unidades de saída\n",
        "- Terceira layer fully-connected: liga 4096 entradas a 10 unidades de saída\n",
        "\n",
        "Aplicação:\n",
        "\n",
        "- A primeria layer convolucional é aplicada e seguida de ReLu e MaxPool de kernel 3x3 e stride=2\n",
        "- A segunda layer convolucional é aplicada e seguida de ReLu e MaxPool de kernel 3x3 e stride=2\n",
        "- A terceira layer convolucional é aplicada e seguida de ReLu\n",
        "- A quarta layer convolucional é aplicada e seguida de ReLu\n",
        "- A quinta layer convolucional é aplicada e seguida de ReLu e MaxPool de kernel 3x3 e stride=2\n",
        "- Os dados da imagem são transformados em um único vetor\n",
        "- Aplica-se a primeira layer fully-connected seguida de ReLU\n",
        "- Aplica-se a segunda layer fully-connected seguida de ReLU\n",
        "- Aplica-se a terceira layer fully-connected\n",
        "- Aplica-se softmax seguido de logaritmo"
      ]
    },
    {
      "cell_type": "code",
      "metadata": {
        "id": "o2aokGhsluJb"
      },
      "source": [
        "#Criando a classe da CNN\n",
        "class AlexNet(nn.Module):\n",
        "        def __init__(self):\n",
        "            super().__init__()\n",
        "            self.cv1 = nn.Sequential(\n",
        "                nn.Conv2d(1, 96, 11, 4, 0),\n",
        "                nn.ReLU(),\n",
        "                nn.MaxPool2d(3, 2)\n",
        "            )\n",
        "            self.cv2 = nn.Sequential(\n",
        "                nn.Conv2d(96, 256, 5, 1, 2),\n",
        "                nn.ReLU(),\n",
        "                nn.MaxPool2d(3, 2)\n",
        "            )\n",
        "            self.cv3 = nn.Sequential(\n",
        "                nn.Conv2d(256, 384, 3, 1, 1),\n",
        "                nn.ReLU()\n",
        "            )\n",
        "            self.cv4 = nn.Sequential(\n",
        "                nn.Conv2d(384, 384, 3, 1, 1),\n",
        "                nn.ReLU()\n",
        "            )\n",
        "            self.cv5 = nn.Sequential(\n",
        "                nn.Conv2d(384, 256, 3, 1, 1),\n",
        "                nn.ReLU(),\n",
        "                nn.MaxPool2d(3, 2)\n",
        "            )\n",
        "            self.fc1 = nn.Linear(256*6*6, 4096)\n",
        "            self.fc2 = nn.Linear(4096, 4096)\n",
        "            self.fc3 = nn.Linear(4096, 49)\n",
        "\n",
        "        def forward(self, x):\n",
        "            out = self.cv1(x)\n",
        "            out = self.cv2(out)\n",
        "            out = self.cv3(out)\n",
        "            out = self.cv4(out)\n",
        "            out = self.cv5(out)\n",
        "            out = out.view(out.size(0), -1)\n",
        "\n",
        "            out = F.relu(self.fc1(out))\n",
        "            out = F.dropout(out, 0.5)\n",
        "            out = F.relu(self.fc2(out))\n",
        "            out = F.dropout(out, 0.5)\n",
        "            out = self.fc3(out)\n",
        "            out = F.log_softmax(out, dim=1)\n",
        "\n",
        "            return out\n",
        "        \n",
        "alexnet = AlexNet().to(DEVICE)"
      ],
      "execution_count": null,
      "outputs": []
    },
    {
      "cell_type": "markdown",
      "metadata": {
        "id": "Ihpr7KzdluJe"
      },
      "source": [
        "- Para a escolha dos parâmetros, utilizamos uma taxa aprendizado de 0.001"
      ]
    },
    {
      "cell_type": "code",
      "metadata": {
        "id": "GtBCr4wrluJe"
      },
      "source": [
        "# Vamos utilizar a loss \"Classification Cross-Entropy\" e gradiente descentende\n",
        "criterion = nn.CrossEntropyLoss()\n",
        "optimizer = optim.SGD(alexnet.parameters(), lr = 0.001, momentum = 0.9)"
      ],
      "execution_count": null,
      "outputs": []
    },
    {
      "cell_type": "markdown",
      "metadata": {
        "id": "QU7RBZpsluJh"
      },
      "source": [
        "### Treinando a Rede"
      ]
    },
    {
      "cell_type": "code",
      "metadata": {
        "id": "ZRvjSEJjluJi",
        "outputId": "312eed2b-f8b2-43c3-b54a-2c93536f3264",
        "colab": {
          "base_uri": "https://localhost:8080/"
        }
      },
      "source": [
        "# Iterando sobre os dados\n",
        "n = ((X_train.shape[0]) // BATCH_SIZE)\n",
        "alexnet_loss = []\n",
        "alexnet_train_acc = []\n",
        "\n",
        "for epoch in range(EPOCHS):\n",
        "    running_loss = 0.0\n",
        "    correct = 0\n",
        "    total = 0\n",
        "    for batch_idx, (data, target) in enumerate(train):\n",
        "        target = target.type(torch.LongTensor)\n",
        "        data, target = data.to(DEVICE), target.to(DEVICE)\n",
        "        optimizer.zero_grad()\n",
        "        \n",
        "        # Forward + Backward + Otimização\n",
        "        outputs = alexnet(data)\n",
        "        loss = criterion(outputs, target)\n",
        "        loss.backward()\n",
        "        optimizer.step()\n",
        "        \n",
        "        _, predicted = torch.max(outputs.data, 1)\n",
        "        total += target.size(0)\n",
        "        correct += (predicted == target).sum().item() \n",
        "\n",
        "        # Printando as estatísticas\n",
        "        running_loss += loss.item()\n",
        "        if (batch_idx == n/2) or (batch_idx == n-1):\n",
        "            print('[Epoch %2d] loss: %.3f' % (epoch + 1, running_loss/n))\n",
        "            alexnet_loss.append(running_loss/n)\n",
        "            running_loss = 0.0\n",
        "            \n",
        "    alexnet_train_acc.append(100 * correct / total)\n",
        "    \n",
        "print('Finished Training on the AlexNet')"
      ],
      "execution_count": null,
      "outputs": [
        {
          "output_type": "stream",
          "text": [
            "[Epoch  1] loss: 0.358\n",
            "[Epoch  1] loss: 0.107\n",
            "[Epoch  2] loss: 0.073\n",
            "[Epoch  2] loss: 0.065\n",
            "[Epoch  3] loss: 0.049\n",
            "[Epoch  3] loss: 0.048\n",
            "[Epoch  4] loss: 0.037\n",
            "[Epoch  4] loss: 0.038\n",
            "[Epoch  5] loss: 0.029\n",
            "[Epoch  5] loss: 0.031\n",
            "[Epoch  6] loss: 0.025\n",
            "[Epoch  6] loss: 0.027\n",
            "[Epoch  7] loss: 0.021\n",
            "[Epoch  7] loss: 0.023\n",
            "[Epoch  8] loss: 0.018\n",
            "[Epoch  8] loss: 0.019\n",
            "[Epoch  9] loss: 0.017\n",
            "[Epoch  9] loss: 0.018\n",
            "[Epoch 10] loss: 0.015\n",
            "[Epoch 10] loss: 0.017\n",
            "Finished Training on the AlexNet\n"
          ],
          "name": "stdout"
        }
      ]
    },
    {
      "cell_type": "code",
      "metadata": {
        "id": "mDcx2BA4luJl"
      },
      "source": [
        "# Salvando o modelo treinado\n",
        "PATH = './kmnist_alexnet.pth'\n",
        "torch.save(alexnet.state_dict(), PATH)"
      ],
      "execution_count": null,
      "outputs": []
    },
    {
      "cell_type": "code",
      "metadata": {
        "id": "ZVywZERMluJo",
        "outputId": "9b2c5ec4-195c-4b2a-8c44-e38b8be31dd1",
        "colab": {
          "base_uri": "https://localhost:8080/"
        }
      },
      "source": [
        "# Testando a acurácia da rede para o conjunto de validação\n",
        "correct = 0\n",
        "total = 0\n",
        "\n",
        "with torch.no_grad():\n",
        "    for data, target in valid:\n",
        "        target = target.type(torch.LongTensor)\n",
        "        images, target = data.to(DEVICE), target.to(DEVICE)\n",
        "        outputs = alexnet(images)\n",
        "        _, predicted = torch.max(outputs.data, 1)\n",
        "        total += target.size(0)\n",
        "        correct += (predicted == target).sum().item() \n",
        "        \n",
        "alexnet_valid_acc = 100 * correct / total\n",
        "print('Acurácia da rede nas imagens de validação: %d %%' % alexnet_valid_acc)"
      ],
      "execution_count": null,
      "outputs": [
        {
          "output_type": "stream",
          "text": [
            "Acurácia da rede nas imagens de validação: 97 %\n"
          ],
          "name": "stdout"
        }
      ]
    },
    {
      "cell_type": "code",
      "metadata": {
        "id": "vQc2PAh0luJr",
        "outputId": "2a92feb8-b4fd-410c-98bf-70d3bd5ee494",
        "colab": {
          "base_uri": "https://localhost:8080/"
        }
      },
      "source": [
        "# Testando a acurácia da rede em todo o conjunto de testes\n",
        "correct = 0\n",
        "total = 0\n",
        "\n",
        "with torch.no_grad():\n",
        "    for data, target in test:\n",
        "        target = target.type(torch.LongTensor)\n",
        "        images, target = data.to(DEVICE), target.to(DEVICE)\n",
        "        outputs = alexnet(images)\n",
        "        _, predicted = torch.max(outputs.data, 1)\n",
        "        total += target.size(0)\n",
        "        correct += (predicted == target).sum().item()\n",
        "        \n",
        "alexnet_test_acc = 100 * correct / total\n",
        "print('Acurácia da rede nas imagens de teste: %d %%' % alexnet_test_acc)"
      ],
      "execution_count": null,
      "outputs": [
        {
          "output_type": "stream",
          "text": [
            "Acurácia da rede nas imagens de teste: 95 %\n"
          ],
          "name": "stdout"
        }
      ]
    },
    {
      "cell_type": "code",
      "metadata": {
        "id": "u-YqQQBSluJt",
        "outputId": "44cb8467-9e96-4f2d-fd55-8fa66c9b50ac",
        "colab": {
          "base_uri": "https://localhost:8080/"
        }
      },
      "source": [
        "# Avaliando a acurácia em cada classe\n",
        "class_correct = list(0. for i in range(49))\n",
        "class_total = list(0. for i in range(49))\n",
        "\n",
        "with torch.no_grad():\n",
        "    for data, target in test:\n",
        "        target = target.type(torch.LongTensor)\n",
        "        images, target= data.to(DEVICE), target.to(DEVICE)\n",
        "        outputs = alexnet(images)\n",
        "        _, predicted = torch.max(outputs, 1)\n",
        "        c = (predicted == target).squeeze()\n",
        "        for i in range(3):\n",
        "            label = target[i]\n",
        "            class_correct[label] += c[i].item()\n",
        "            class_total[label] += 1\n",
        "\n",
        "alexnet_class_acc = []            \n",
        "for i in range(10):\n",
        "    alexnet_class_acc.append(100 * class_correct[i] / class_total[i])\n",
        "print('Verificação de acurácia por classes terminada!')"
      ],
      "execution_count": null,
      "outputs": [
        {
          "output_type": "stream",
          "text": [
            "Verificação de acurácia por classes terminada!\n"
          ],
          "name": "stdout"
        }
      ]
    },
    {
      "cell_type": "markdown",
      "metadata": {
        "id": "X4NzyGhFluJy"
      },
      "source": [
        "## Resultados e Comparação\n",
        "\n",
        "Apesar da semelhança, tanto de nome quanto de objetivos gerais, o Kuzushiji MNIST é mais desafiador que o MNIST tradicional. Não só por possuir quase cinco vezes mais classes, mas também pelo número de variações. Quanto mais usado o caracter é na escrita, mais diferente ele se torna e um único caractere pode ser escrito de múltiplas maneiras diferentes no Japonês pré-moderno.<br>\n",
        "O Hiragana foi e ainda é extremamente usado para acompanhar *kanji* em adjetivos e verbos ou substituí-los completamete como acontciam em obras cujas autoras eram mulheres, pois até certo ponto da história, as mulheres não eram ensinadas a escrever *kanji*.<br>\n",
        "Todos esses fatores comprovam a complexidade do Kuzushiji MNIST e leva à espera de resultados condizentes."
      ]
    },
    {
      "cell_type": "markdown",
      "metadata": {
        "id": "jXcES9cHluJy"
      },
      "source": [
        "- Não foi  usado cross-validation neste experimento pois deixaria o processo das classificações ainda mais pesado e demorado."
      ]
    },
    {
      "cell_type": "markdown",
      "metadata": {
        "id": "bguRc4uSluJz"
      },
      "source": [
        "### Acurácia de Treino"
      ]
    },
    {
      "cell_type": "code",
      "metadata": {
        "id": "8dPjS_68luJz",
        "outputId": "c8ae8305-7f8e-4aa5-ef26-d81d4c9e9c6e",
        "colab": {
          "base_uri": "https://localhost:8080/",
          "height": 297
        }
      },
      "source": [
        "plt.plot([i for i in range(1, EPOCHS+1)], lenet_train_acc, label = \"LeNet\")\n",
        "plt.plot([i for i in range(1, EPOCHS+1)], alexnet_train_acc, label = \"AlexNet\")\n",
        "plt.xlabel('Número de Épocas')\n",
        "plt.ylabel('Acurácia')\n",
        "plt.title('Comparação de Acurácia')\n",
        "plt.legend() \n",
        "plt.show()"
      ],
      "execution_count": null,
      "outputs": [
        {
          "output_type": "display_data",
          "data": {
            "image/png": "[encoded data removed]",
            "text/plain": [
              "<Figure size 432x288 with 1 Axes>"
            ]
          },
          "metadata": {
            "tags": [],
            "needs_background": "light"
          }
        }
      ]
    },
    {
      "cell_type": "markdown",
      "metadata": {
        "id": "fB7sCATlluJ3"
      },
      "source": [
        "### Loss do treino"
      ]
    },
    {
      "cell_type": "code",
      "metadata": {
        "id": "bpYJgBTFluJ4"
      },
      "source": [
        "grafx=[0.5, 1, 1.5, 2, 2.5, 3, 3.5, 4, 4.5, 5, 5.5, 6, 6.5, 7, 7.5, 8, 8.5, 9, 9.5, 10]"
      ],
      "execution_count": null,
      "outputs": []
    },
    {
      "cell_type": "code",
      "metadata": {
        "id": "nVWBOb-KluJ7",
        "outputId": "1f7c6f16-6f6c-418b-ef2e-399f3767942e",
        "colab": {
          "base_uri": "https://localhost:8080/",
          "height": 297
        }
      },
      "source": [
        "plt.plot(grafx, lenet_loss, label = \"LeNet\")\n",
        "plt.plot(grafx, alexnet_loss, label = \"AlexNet\")\n",
        "plt.xlabel('Número de Épocas')\n",
        "plt.ylabel('Loss')\n",
        "plt.title('Comparação de Loss')\n",
        "plt.legend() \n",
        "plt.show()"
      ],
      "execution_count": null,
      "outputs": [
        {
          "output_type": "display_data",
          "data": {
            "image/png": "[encoded data removed]",
            "text/plain": [
              "<Figure size 432x288 with 1 Axes>"
            ]
          },
          "metadata": {
            "tags": [],
            "needs_background": "light"
          }
        }
      ]
    },
    {
      "cell_type": "markdown",
      "metadata": {
        "id": "u1JQA3uWluJ9"
      },
      "source": [
        "### Comparação das Acurácias\n",
        "\n",
        "- Acurácia de Validação\n",
        "\n",
        "| Rede | MNIST | KMNIST |\n",
        "|---|---|---|\n",
        "| AlexNet | 0% | 0% |\n",
        "| LeNet | 0% | 0% |"
      ]
    },
    {
      "cell_type": "markdown",
      "metadata": {
        "id": "pbBP4fScluJ9"
      },
      "source": [
        "- Acurácia de Teste\n",
        "\n",
        "| Rede | MNIST | KMNIST |\n",
        "|---|---|---|\n",
        "| AlexNet | 0% | 0% |\n",
        "| LeNet | 0% | 0% |"
      ]
    },
    {
      "cell_type": "markdown",
      "metadata": {
        "id": "AYsXN745luJ9"
      },
      "source": [
        "- Acurácia por classe para as 10 primeiras classes"
      ]
    },
    {
      "cell_type": "code",
      "metadata": {
        "id": "l_REEO7CluJ-",
        "outputId": "aec09749-bfa8-4423-96cc-d62f34d31116",
        "colab": {
          "base_uri": "https://localhost:8080/",
          "height": 343
        }
      },
      "source": [
        "table_val = []\n",
        "for cont in range(10):\n",
        "    table_val.append([classes[cont], round(lenet_class_acc[cont], 2), round(alexnet_class_acc[cont], 2)])\n",
        "\n",
        "acc_df = pd.DataFrame(np.array(table_val), columns=['Classes', 'LeNet', 'AlexNet'])\n",
        "acc_df"
      ],
      "execution_count": null,
      "outputs": [
        {
          "output_type": "execute_result",
          "data": {
            "text/html": [
              "<div>\n",
              "<style scoped>\n",
              "    .dataframe tbody tr th:only-of-type {\n",
              "        vertical-align: middle;\n",
              "    }\n",
              "\n",
              "    .dataframe tbody tr th {\n",
              "        vertical-align: top;\n",
              "    }\n",
              "\n",
              "    .dataframe thead th {\n",
              "        text-align: right;\n",
              "    }\n",
              "</style>\n",
              "<table border=\"1\" class=\"dataframe\">\n",
              "  <thead>\n",
              "    <tr style=\"text-align: right;\">\n",
              "      <th></th>\n",
              "      <th>Classes</th>\n",
              "      <th>LeNet</th>\n",
              "      <th>AlexNet</th>\n",
              "    </tr>\n",
              "  </thead>\n",
              "  <tbody>\n",
              "    <tr>\n",
              "      <th>0</th>\n",
              "      <td>あ</td>\n",
              "      <td>92.65</td>\n",
              "      <td>96.97</td>\n",
              "    </tr>\n",
              "    <tr>\n",
              "      <th>1</th>\n",
              "      <td>い</td>\n",
              "      <td>92.84</td>\n",
              "      <td>97.51</td>\n",
              "    </tr>\n",
              "    <tr>\n",
              "      <th>2</th>\n",
              "      <td>う</td>\n",
              "      <td>95.56</td>\n",
              "      <td>95.95</td>\n",
              "    </tr>\n",
              "    <tr>\n",
              "      <th>3</th>\n",
              "      <td>え</td>\n",
              "      <td>91.92</td>\n",
              "      <td>90.65</td>\n",
              "    </tr>\n",
              "    <tr>\n",
              "      <th>4</th>\n",
              "      <td>お</td>\n",
              "      <td>92.4</td>\n",
              "      <td>96.51</td>\n",
              "    </tr>\n",
              "    <tr>\n",
              "      <th>5</th>\n",
              "      <td>か</td>\n",
              "      <td>80.61</td>\n",
              "      <td>88.99</td>\n",
              "    </tr>\n",
              "    <tr>\n",
              "      <th>6</th>\n",
              "      <td>き</td>\n",
              "      <td>88.08</td>\n",
              "      <td>96.4</td>\n",
              "    </tr>\n",
              "    <tr>\n",
              "      <th>7</th>\n",
              "      <td>く</td>\n",
              "      <td>91.09</td>\n",
              "      <td>92.7</td>\n",
              "    </tr>\n",
              "    <tr>\n",
              "      <th>8</th>\n",
              "      <td>け</td>\n",
              "      <td>87.76</td>\n",
              "      <td>97.19</td>\n",
              "    </tr>\n",
              "    <tr>\n",
              "      <th>9</th>\n",
              "      <td>こ</td>\n",
              "      <td>89.88</td>\n",
              "      <td>91.86</td>\n",
              "    </tr>\n",
              "  </tbody>\n",
              "</table>\n",
              "</div>"
            ],
            "text/plain": [
              "  Classes  LeNet AlexNet\n",
              "0       あ  92.65   96.97\n",
              "1       い  92.84   97.51\n",
              "2       う  95.56   95.95\n",
              "3       え  91.92   90.65\n",
              "4       お   92.4   96.51\n",
              "5       か  80.61   88.99\n",
              "6       き  88.08    96.4\n",
              "7       く  91.09    92.7\n",
              "8       け  87.76   97.19\n",
              "9       こ  89.88   91.86"
            ]
          },
          "metadata": {
            "tags": []
          },
          "execution_count": 27
        }
      ]
    },
    {
      "cell_type": "markdown",
      "metadata": {
        "id": "4U67VYkCluKB"
      },
      "source": [
        "## Conclusão\n",
        "\n"
      ]
    },
    {
      "cell_type": "markdown",
      "metadata": {
        "id": "Owa-6XzFluKB"
      },
      "source": [
        "## Referências\n",
        "\n",
        "- T. Clanuwat, A. Kitamoto, K. Yamamoto, M. Bober-Irizar, A. Lamb and D. Ha. **Deep Learning for Classical Japanese Literature**. 32nd Conference on Neural Information Processing Systems, Montreal, Canadá, p. 1-5, dec. 2018. Disponível em: https://arxiv.org/pdf/1812.01718.pdf\n",
        "\n",
        "- T. Clanuwat, A. Lamb and A. Kitamoto. **KuroNet: Pre-Modern Japanese Kuzushiji Character Recognition with Deep Learning**. p.1-5. Disponível em: https://arxiv.org/pdf/1910.09433.pdf\n",
        "\n",
        "- anokas.**Kuzushiji-MNIST: Classify handwritten characters in ancient Japanese manuscripts**. Kaggle, CC BY-SA 4.0, 2018. Disponível em: https://www.kaggle.com/anokas/kuzushiji\n",
        "\n",
        "- Tiiktak.**Fashion MNIST with AlexNet in Pytorch(92% accuracy**. Kaggle, Mar. 2020. Disponível em: https://www.kaggle.com/tiiktak/fashion-mnist-with-alexnet-in-pytorch-92-accuracy\n",
        "\n",
        "- A. Krizhevsky, I. Sutskever and G.E. Hinton.**ImageNet Classification with Deep Convolutional Neural Networks**. p. 5, 2012. Disponível em: https://papers.nips.cc/paper/4824-imagenet-classification-with-deep-convolutional-neural-networks.pdf\n",
        "\n",
        "- Y. LeCun, L. Bottou, Y Bengio and P. Haffner.**Gradient-Based Learning Applied to Document Recognition**.PROC OF THE IEEE, Nov. 1998. Disponível em: http://yann.lecun.com/exdb/publis/pdf/lecun-98.pdf\n"
      ]
    }
  ]
}